{
 "cells": [
  {
   "cell_type": "code",
   "execution_count": 13,
   "metadata": {},
   "outputs": [],
   "source": [
    "import arviz as az\n",
    "import pymc3 as pm\n",
    "import numpy as np\n",
    "import matplotlib.pyplot as plt"
   ]
  },
  {
   "cell_type": "code",
   "execution_count": 14,
   "metadata": {},
   "outputs": [],
   "source": [
    "np.random.seed(26)\n",
    "\n",
    "xdata = np.linspace(0, 50, 100)\n",
    "b0, b1, sigma = -2, 1, 3\n",
    "ydata = np.random.normal(loc=b1 * xdata + b0, scale=sigma)"
   ]
  },
  {
   "cell_type": "code",
   "execution_count": 15,
   "metadata": {},
   "outputs": [
    {
     "data": {
      "image/png": "[encoded data removed]",
      "text/plain": [
       "<Figure size 432x288 with 1 Axes>"
      ]
     },
     "metadata": {
      "needs_background": "light"
     },
     "output_type": "display_data"
    }
   ],
   "source": [
    "plt.plot(xdata, ydata);"
   ]
  },
  {
   "cell_type": "code",
   "execution_count": 16,
   "metadata": {},
   "outputs": [],
   "source": [
    "def compile_linreg_model(xdata, ydata):\n",
    "    with pm.Model() as model:\n",
    "        x = pm.Data('xdata', xdata)\n",
    "        y_obs = pm.Data('ydata', ydata)\n",
    "        b0 = pm.Normal(\"b0\", 0, 10)\n",
    "        b1 = pm.Normal(\"b1\", 0, 10)\n",
    "        sigma_e = pm.HalfNormal(\"sigma_e\", 10)\n",
    "\n",
    "        y = pm.Normal(\"y\", b0 + b1 * x, sigma_e, observed=y_obs)\n",
    "    return model\n",
    "\n",
    "def sel_observations(xdata, ydata, idx):\n",
    "        mask = np.isin(np.arange(len(xdata)), idx)\n",
    "        data_dict = {\"xdata\": xdata, \"ydata\": ydata}\n",
    "        data__i = {key: value[~mask] for key, value in data_dict.items()}\n",
    "        data_ex = {key: value[mask] for key, value in data_dict.items()}\n",
    "        return data__i, data_ex\n",
    "\n",
    "# with pm.Model() as model:\n",
    "#     x = pm.Data('xdata', xdata)\n",
    "#     y_obs = pm.Data('ydata', ydata)\n",
    "#     b0 = pm.Normal(\"b0\", 0, 10)\n",
    "#     b1 = pm.Normal(\"b1\", 0, 10)\n",
    "#     sigma_e = pm.HalfNormal(\"sigma_e\", 10)\n",
    "\n",
    "#     y = pm.Normal(\"y\", b0 + b1 * x, sigma_e, observed=y_obs)"
   ]
  },
  {
   "cell_type": "code",
   "execution_count": 18,
   "metadata": {},
   "outputs": [
    {
     "name": "stderr",
     "output_type": "stream",
     "text": [
      "/tmp/ipykernel_25166/959293144.py:5: FutureWarning: In v4.0, pm.sample will return an `arviz.InferenceData` object instead of a `MultiTrace` by default. You can pass return_inferencedata=True or return_inferencedata=False to be safe and silence this warning.\n",
      "  trace = pm.sample(**sample_kwargs)\n",
      "Auto-assigning NUTS sampler...\n",
      "Initializing NUTS using jitter+adapt_diag...\n",
      "Multiprocess sampling (4 chains in 4 jobs)\n",
      "NUTS: [sigma_e, b1, b0]\n",
      "Sampling 4 chains for 1_000 tune and 1_000 draw iterations (4_000 + 4_000 draws total) took 2 seconds.\n",
      "The acceptance probability does not match the target. It is 0.9070915382094323, but should be close to 0.8. Try to increase the number of tuning steps.\n"
     ]
    },
    {
     "name": "stdout",
     "output_type": "stream",
     "text": [
      "[ 0.          0.50505051  1.01010101  1.51515152  2.02020202  2.52525253\n",
      "  3.03030303  3.53535354  4.04040404  4.54545455  5.05050505  5.55555556\n",
      "  6.06060606  7.07070707  7.57575758  8.08080808  8.58585859  9.09090909\n",
      "  9.5959596  10.1010101  10.60606061 11.11111111 11.61616162 12.12121212\n",
      " 12.62626263 13.13131313 13.63636364 14.14141414 14.64646465 15.15151515\n",
      " 15.65656566 16.16161616 16.66666667 17.17171717 17.67676768 18.18181818\n",
      " 18.68686869 19.19191919 19.6969697  20.2020202  20.70707071 21.21212121\n",
      " 21.71717172 22.22222222 22.72727273 23.23232323 23.73737374 24.24242424\n",
      " 24.74747475 25.25252525 25.75757576 26.26262626 26.76767677 27.27272727\n",
      " 27.77777778 28.28282828 28.78787879 29.29292929 29.7979798  30.3030303\n",
      " 30.80808081 31.31313131 31.81818182 32.32323232 32.82828283 33.33333333\n",
      " 33.83838384 34.34343434 34.84848485 35.35353535 35.85858586 36.36363636\n",
      " 36.86868687 37.37373737 37.87878788 38.38383838 38.88888889 39.39393939\n",
      " 39.8989899  40.4040404  40.90909091 41.41414141 41.91919192 42.42424242\n",
      " 42.92929293 43.43434343 43.93939394 44.44444444 44.94949495 45.45454545\n",
      " 45.95959596 46.46464646 46.96969697 47.47474747 47.97979798 48.48484848\n",
      " 48.98989899 49.49494949 50.        ]\n",
      "[6.56565657]\n"
     ]
    }
   ],
   "source": [
    "mod_data, ex_data = sel_observations(xdata, ydata, 13)\n",
    "\n",
    "sample_kwargs = {\"draws\": 1000, \"tune\": 1000, \"chains\": 4, \"progressbar\": False}\n",
    "with compile_linreg_model(**mod_data) as linreg_model:\n",
    "    trace = pm.sample(**sample_kwargs)\n",
    "\n",
    "with linreg_model:\n",
    "    print(linreg_model['xdata'].get_value())\n",
    "    pm.set_data({\"xdata\": ex_data[\"xdata\"], \"ydata\": ex_data[\"ydata\"]})\n",
    "    print(linreg_model['xdata'].get_value())\n",
    "\n",
    "log_lik__i = az.from_pymc3(trace, model=linreg_model, log_likelihood=True).log_likelihood['y']\n"
   ]
  },
  {
   "cell_type": "code",
   "execution_count": null,
   "metadata": {},
   "outputs": [],
   "source": [
    "\n",
    "# with compile_linreg_model(**mod_data) as linreg_model:\n",
    "#     trace = pm.sample(**sample_kwargs)\n",
    "\n",
    "\n",
    "# with model:\n",
    "#     trace = pm.sample(**sample_kwargs)\n",
    "\n",
    "# print(mod_data.keys())\n",
    "# with compile_linreg_model(mod_data['xdata'], mod_data['ydata']) as linreg_model:\n",
    "#     print(linreg_model['xdata'])\n",
    "#     pm.set_data(\n",
    "#             {\n",
    "#                 'xdata': mod_data['xdata'],\n",
    "#                 'ydata': mod_data['ydata']\n",
    "#             }\n",
    "#     )\n",
    "\n",
    "# with linreg_model:\n",
    "#     trace = pm.sample(\n",
    "#             **sample_kwargs, \n",
    "#             return_inferencedata=False, \n",
    "#             idata_kwargs={\"log_likelihood\": False}\n",
    "#         )\n",
    "\n",
    "# mod_data, ex_data = sel_observations(xdata, ydata, 20)\n",
    "# with linreg_model:\n",
    "#     pm.set_data(\n",
    "#             mod_data\n",
    "#     )\n",
    "#     trace = pm.sample(\n",
    "#         **sample_kwargs, \n",
    "#         return_inferencedata=False, \n",
    "#         idata_kwargs={\"log_likelihood\": False}\n",
    "    # )"
   ]
  },
  {
   "cell_type": "code",
   "execution_count": 6,
   "metadata": {},
   "outputs": [
    {
     "name": "stderr",
     "output_type": "stream",
     "text": [
      "Auto-assigning NUTS sampler...\n",
      "Initializing NUTS using jitter+adapt_diag...\n",
      "Multiprocess sampling (4 chains in 4 jobs)\n",
      "NUTS: [sigma_e, b1, b0]\n",
      "Sampling 4 chains for 1_000 tune and 1_000 draw iterations (4_000 + 4_000 draws total) took 2 seconds.\n",
      "The acceptance probability does not match the target. It is 0.9070915382094323, but should be close to 0.8. Try to increase the number of tuning steps.\n"
     ]
    }
   ],
   "source": [
    "\n",
    "\n",
    "mod_data, ex_data = sel_observations(xdata, ydata, 0)\n",
    "\n",
    "with pm.Model() as model:\n",
    "    x = pm.Data('xdata', mod_data['xdata'])\n",
    "    y_obs = pm.Data('ydata', mod_data['ydata'])\n",
    "    b0 = pm.Normal(\"b0\", 0, 10)\n",
    "    b1 = pm.Normal(\"b1\", 0, 10)\n",
    "    sigma_e = pm.HalfNormal(\"sigma_e\", 10)\n",
    "\n",
    "    y = pm.Normal(\"y\", b0 + b1 * x, sigma_e, observed=y_obs)\n",
    "\n",
    "mod_data, ex_data = sel_observations(xdata, ydata, 13)\n",
    "\n",
    "with model:\n",
    "        pm.set_data(\n",
    "                mod_data\n",
    "        )\n",
    "        trace = pm.sample(\n",
    "                **sample_kwargs, \n",
    "                return_inferencedata=False, \n",
    "                idata_kwargs={\"log_likelihood\": False}\n",
    "            )"
   ]
  },
  {
   "cell_type": "code",
   "execution_count": 7,
   "metadata": {},
   "outputs": [],
   "source": [
    "dims = {\"y\": [\"time\"]}\n",
    "idata_kwargs = {\n",
    "    \"dims\": dims,\n",
    "}\n",
    "idata = az.from_pymc3(trace, model=linreg_model, **idata_kwargs)"
   ]
  },
  {
   "cell_type": "code",
   "execution_count": 8,
   "metadata": {},
   "outputs": [],
   "source": [
    "class PyMC3LinRegWrapper(az.SamplingWrapper):\n",
    "    def __init__(self, xdata, ydata, model, **kwargs):\n",
    "        print(kwargs)\n",
    "\n",
    "\n",
    "        self.xdata = xdata\n",
    "        self.ydata = ydata\n",
    "\n",
    "        __selected_data, _ = self.sel_observations(0)\n",
    "        self.pymc3_model = model(**__selected_data)\n",
    "        \n",
    "        super(PyMC3LinRegWrapper, self).__init__(model=model, **kwargs)\n",
    "\n",
    "    def sample(self, modified_observed_data):\n",
    "        with self.pymc3_model:\n",
    "            pm.set_data(\n",
    "                modified_observed_data\n",
    "            )\n",
    "            trace = pm.sample(\n",
    "                **self.sample_kwargs, \n",
    "                return_inferencedata=False, \n",
    "                idata_kwargs={\"log_likelihood\": False}\n",
    "            )\n",
    "        # with self.model(**modified_observed_data) as linreg_model:\n",
    "        #     trace = pm.sample(\n",
    "        #         **self.sample_kwargs, \n",
    "        #         return_inferencedata=False, \n",
    "        #         idata_kwargs={\"log_likelihood\": False}\n",
    "        #     )\n",
    "        # self.pymc3_model = linreg_model\n",
    "        return trace\n",
    "    \n",
    "    def get_inference_data(self, trace):\n",
    "        idata = az.from_pymc3(trace, model=self.pymc3_model, **self.idata_kwargs)\n",
    "        idata.pymc3_trace = trace\n",
    "        return idata\n",
    "        \n",
    "    def log_likelihood__i(self, excluded_observed_data, idata__i):\n",
    "        with self.pymc3_model:\n",
    "            pm.set_data(excluded_observed_data)\n",
    "        \n",
    "        # model_ex = compile_linreg_model(**excluded_observed_data)\n",
    "        log_lik__i = az.from_pymc3(idata__i.pymc3_trace, model=self.pymc3_model, log_likelihood=True).log_likelihood[\"y\"]\n",
    "        print(log_lik__i)\n",
    "        return log_lik__i\n",
    "        \n",
    "    def sel_observations(self, idx):\n",
    "        mask = np.isin(np.arange(len(self.xdata)), idx)\n",
    "        data_dict = {\"xdata\": self.xdata, \"ydata\": self.ydata}\n",
    "        data__i = {key: value[~mask] for key, value in data_dict.items()}\n",
    "        data_ex = {key: value[mask] for key, value in data_dict.items()}\n",
    "        return data__i, data_ex"
   ]
  },
  {
   "cell_type": "code",
   "execution_count": 9,
   "metadata": {},
   "outputs": [
    {
     "data": {
      "text/plain": [
       "Computed from 4000 by 100 log-likelihood matrix\n",
       "\n",
       "         Estimate       SE\n",
       "elpd_loo  -250.94     7.19\n",
       "p_loo        3.13        -\n",
       "------\n",
       "\n",
       "Pareto k diagnostic values:\n",
       "                         Count   Pct.\n",
       "(-Inf, 0.5]   (good)      100  100.0%\n",
       " (0.5, 0.7]   (ok)          0    0.0%\n",
       "   (0.7, 1]   (bad)         0    0.0%\n",
       "   (1, Inf)   (very bad)    0    0.0%"
      ]
     },
     "execution_count": 9,
     "metadata": {},
     "output_type": "execute_result"
    }
   ],
   "source": [
    "loo_orig = az.loo(idata, pointwise=True)\n",
    "loo_orig"
   ]
  },
  {
   "cell_type": "code",
   "execution_count": 10,
   "metadata": {},
   "outputs": [],
   "source": [
    "loo_orig.pareto_k[[13, 42, 56, 73]] = np.array([0.8, 1.2, 2.6, 0.9])"
   ]
  },
  {
   "cell_type": "code",
   "execution_count": 11,
   "metadata": {},
   "outputs": [
    {
     "name": "stdout",
     "output_type": "stream",
     "text": [
      "{'sample_kwargs': {'draws': 1000, 'tune': 1000, 'chains': 4, 'progressbar': False}, 'idata_kwargs': {'dims': {'y': ['time']}}}\n"
     ]
    }
   ],
   "source": [
    "pymc3_wrapper = PyMC3LinRegWrapper(\n",
    "    model=compile_linreg_model, xdata=xdata, ydata=ydata, sample_kwargs=sample_kwargs, idata_kwargs=idata_kwargs\n",
    ")"
   ]
  },
  {
   "cell_type": "code",
   "execution_count": 12,
   "metadata": {},
   "outputs": [
    {
     "name": "stderr",
     "output_type": "stream",
     "text": [
      "/home/mathieu/anaconda3/envs/phd/lib/python3.9/site-packages/arviz/stats/stats_refitting.py:99: UserWarning: reloo is an experimental and untested feature\n",
      "  warnings.warn(\"reloo is an experimental and untested feature\", UserWarning)\n",
      "Auto-assigning NUTS sampler...\n",
      "Initializing NUTS using jitter+adapt_diag...\n",
      "Multiprocess sampling (4 chains in 4 jobs)\n",
      "NUTS: [sigma_e, b1, b0]\n",
      "Sampling 4 chains for 1_000 tune and 1_000 draw iterations (4_000 + 4_000 draws total) took 2 seconds.\n",
      "The acceptance probability does not match the target. It is 0.688282976923873, but should be close to 0.8. Try to increase the number of tuning steps.\n",
      "Auto-assigning NUTS sampler...\n",
      "Initializing NUTS using jitter+adapt_diag...\n"
     ]
    },
    {
     "name": "stdout",
     "output_type": "stream",
     "text": [
      "<xarray.DataArray 'y' (chain: 4, draw: 1000, y_dim_0: 1)>\n",
      "array([[[-2.10543541],\n",
      "        [-2.26268044],\n",
      "        [-2.24398002],\n",
      "        ...,\n",
      "        [-2.38602558],\n",
      "        [-2.43204803],\n",
      "        [-2.34112534]],\n",
      "\n",
      "       [[-2.14961077],\n",
      "        [-2.11235738],\n",
      "        [-2.42262207],\n",
      "        ...,\n",
      "        [-2.42480517],\n",
      "        [-2.25903187],\n",
      "        [-2.14216682]],\n",
      "\n",
      "       [[-2.40485718],\n",
      "        [-2.33768043],\n",
      "        [-2.35306812],\n",
      "        ...,\n",
      "        [-2.21554592],\n",
      "        [-2.48245259],\n",
      "        [-2.48838485]],\n",
      "\n",
      "       [[-2.12745585],\n",
      "        [-2.12745585],\n",
      "        [-2.24609928],\n",
      "        ...,\n",
      "        [-2.312818  ],\n",
      "        [-2.12802388],\n",
      "        [-2.2406492 ]]])\n",
      "Coordinates:\n",
      "  * chain    (chain) int64 0 1 2 3\n",
      "  * draw     (draw) int64 0 1 2 3 4 5 6 7 8 ... 992 993 994 995 996 997 998 999\n",
      "  * y_dim_0  (y_dim_0) int64 0\n"
     ]
    },
    {
     "name": "stderr",
     "output_type": "stream",
     "text": [
      "Multiprocess sampling (4 chains in 4 jobs)\n",
      "NUTS: [sigma_e, b1, b0]\n",
      "Sampling 4 chains for 1_000 tune and 1_000 draw iterations (4_000 + 4_000 draws total) took 2 seconds.\n"
     ]
    },
    {
     "name": "stdout",
     "output_type": "stream",
     "text": [
      "<xarray.DataArray 'y' (chain: 4, draw: 1000, y_dim_0: 1)>\n",
      "array([[[-2.17804709],\n",
      "        [-2.32469977],\n",
      "        [-2.22491657],\n",
      "        ...,\n",
      "        [-2.12911097],\n",
      "        [-2.22127195],\n",
      "        [-2.12540108]],\n",
      "\n",
      "       [[-2.17297386],\n",
      "        [-1.96720777],\n",
      "        [-1.96252246],\n",
      "        ...,\n",
      "        [-1.95191749],\n",
      "        [-2.13783678],\n",
      "        [-2.06057511]],\n",
      "\n",
      "       [[-2.11315763],\n",
      "        [-2.13860498],\n",
      "        [-2.03996056],\n",
      "        ...,\n",
      "        [-2.07581814],\n",
      "        [-2.11082991],\n",
      "        [-2.11436546]],\n",
      "\n",
      "       [[-2.1813535 ],\n",
      "        [-2.11473245],\n",
      "        [-2.05467636],\n",
      "        ...,\n",
      "        [-2.09811192],\n",
      "        [-1.99740735],\n",
      "        [-2.05422313]]])\n",
      "Coordinates:\n",
      "  * chain    (chain) int64 0 1 2 3\n",
      "  * draw     (draw) int64 0 1 2 3 4 5 6 7 8 ... 992 993 994 995 996 997 998 999\n",
      "  * y_dim_0  (y_dim_0) int64 0\n"
     ]
    },
    {
     "name": "stderr",
     "output_type": "stream",
     "text": [
      "Auto-assigning NUTS sampler...\n",
      "Initializing NUTS using jitter+adapt_diag...\n",
      "Multiprocess sampling (4 chains in 4 jobs)\n",
      "NUTS: [sigma_e, b1, b0]\n",
      "Sampling 4 chains for 1_000 tune and 1_000 draw iterations (4_000 + 4_000 draws total) took 2 seconds.\n",
      "The acceptance probability does not match the target. It is 0.881560914289616, but should be close to 0.8. Try to increase the number of tuning steps.\n",
      "Auto-assigning NUTS sampler...\n",
      "Initializing NUTS using jitter+adapt_diag...\n"
     ]
    },
    {
     "name": "stdout",
     "output_type": "stream",
     "text": [
      "<xarray.DataArray 'y' (chain: 4, draw: 1000, y_dim_0: 1)>\n",
      "array([[[-2.03123661],\n",
      "        [-1.96230852],\n",
      "        [-2.00323877],\n",
      "        ...,\n",
      "        [-1.86801223],\n",
      "        [-1.95140003],\n",
      "        [-1.96386102]],\n",
      "\n",
      "       [[-1.92745091],\n",
      "        [-1.96297222],\n",
      "        [-1.94588973],\n",
      "        ...,\n",
      "        [-2.02047721],\n",
      "        [-2.00392548],\n",
      "        [-2.02243067]],\n",
      "\n",
      "       [[-2.01440247],\n",
      "        [-2.049158  ],\n",
      "        [-2.09014364],\n",
      "        ...,\n",
      "        [-2.08835659],\n",
      "        [-1.95187615],\n",
      "        [-2.06310856]],\n",
      "\n",
      "       [[-2.04416286],\n",
      "        [-2.00095026],\n",
      "        [-2.02493988],\n",
      "        ...,\n",
      "        [-1.9700842 ],\n",
      "        [-1.94880506],\n",
      "        [-2.02516868]]])\n",
      "Coordinates:\n",
      "  * chain    (chain) int64 0 1 2 3\n",
      "  * draw     (draw) int64 0 1 2 3 4 5 6 7 8 ... 992 993 994 995 996 997 998 999\n",
      "  * y_dim_0  (y_dim_0) int64 0\n"
     ]
    },
    {
     "name": "stderr",
     "output_type": "stream",
     "text": [
      "Multiprocess sampling (4 chains in 4 jobs)\n",
      "NUTS: [sigma_e, b1, b0]\n",
      "Sampling 4 chains for 1_000 tune and 1_000 draw iterations (4_000 + 4_000 draws total) took 2 seconds.\n",
      "The acceptance probability does not match the target. It is 0.8935480719222901, but should be close to 0.8. Try to increase the number of tuning steps.\n",
      "The acceptance probability does not match the target. It is 0.7143826987066215, but should be close to 0.8. Try to increase the number of tuning steps.\n"
     ]
    },
    {
     "name": "stdout",
     "output_type": "stream",
     "text": [
      "<xarray.DataArray 'y' (chain: 4, draw: 1000, y_dim_0: 1)>\n",
      "array([[[-1.97050984],\n",
      "        [-1.93097735],\n",
      "        [-1.96745968],\n",
      "        ...,\n",
      "        [-2.11809748],\n",
      "        [-2.12836608],\n",
      "        [-2.07525711]],\n",
      "\n",
      "       [[-2.05575459],\n",
      "        [-1.881653  ],\n",
      "        [-2.07324228],\n",
      "        ...,\n",
      "        [-1.94075831],\n",
      "        [-2.03549591],\n",
      "        [-2.07475786]],\n",
      "\n",
      "       [[-2.002954  ],\n",
      "        [-1.99005157],\n",
      "        [-1.87286045],\n",
      "        ...,\n",
      "        [-1.90871197],\n",
      "        [-2.13048183],\n",
      "        [-2.15437592]],\n",
      "\n",
      "       [[-1.98040736],\n",
      "        [-2.05406526],\n",
      "        [-1.9592815 ],\n",
      "        ...,\n",
      "        [-2.10165719],\n",
      "        [-1.9103922 ],\n",
      "        [-2.00868241]]])\n",
      "Coordinates:\n",
      "  * chain    (chain) int64 0 1 2 3\n",
      "  * draw     (draw) int64 0 1 2 3 4 5 6 7 8 ... 992 993 994 995 996 997 998 999\n",
      "  * y_dim_0  (y_dim_0) int64 0\n"
     ]
    }
   ],
   "source": [
    "loo_relooed = az.reloo(pymc3_wrapper, loo_orig=loo_orig)"
   ]
  },
  {
   "cell_type": "code",
   "execution_count": 182,
   "metadata": {},
   "outputs": [
    {
     "data": {
      "text/plain": [
       "Computed from 4000 by 100 log-likelihood matrix\n",
       "\n",
       "         Estimate       SE\n",
       "elpd_loo  -251.07     7.17\n",
       "p_loo        3.22        -\n",
       "------\n",
       "\n",
       "Pareto k diagnostic values:\n",
       "                         Count   Pct.\n",
       "(-Inf, 0.5]   (good)      100  100.0%\n",
       " (0.5, 0.7]   (ok)          0    0.0%\n",
       "   (0.7, 1]   (bad)         0    0.0%\n",
       "   (1, Inf)   (very bad)    0    0.0%"
      ]
     },
     "execution_count": 182,
     "metadata": {},
     "output_type": "execute_result"
    }
   ],
   "source": [
    "loo_relooed"
   ]
  },
  {
   "cell_type": "code",
   "execution_count": 183,
   "metadata": {},
   "outputs": [
    {
     "data": {
      "text/plain": [
       "Computed from 4000 by 100 log-likelihood matrix\n",
       "\n",
       "         Estimate       SE\n",
       "elpd_loo  -251.08     7.17\n",
       "p_loo        3.23        -\n",
       "------\n",
       "\n",
       "Pareto k diagnostic values:\n",
       "                         Count   Pct.\n",
       "(-Inf, 0.5]   (good)       96   96.0%\n",
       " (0.5, 0.7]   (ok)          0    0.0%\n",
       "   (0.7, 1]   (bad)         2    2.0%\n",
       "   (1, Inf)   (very bad)    2    2.0%"
      ]
     },
     "execution_count": 183,
     "metadata": {},
     "output_type": "execute_result"
    }
   ],
   "source": [
    "loo_orig"
   ]
  }
 ],
 "metadata": {
  "interpreter": {
   "hash": "244747c6fd72588afcde0162c42b84020c0854932d4821074777ac1fff947003"
  },
  "kernelspec": {
   "display_name": "Python 3.9.5 ('phd')",
   "language": "python",
   "name": "python3"
  },
  "language_info": {
   "codemirror_mode": {
    "name": "ipython",
    "version": 3
   },
   "file_extension": ".py",
   "mimetype": "text/x-python",
   "name": "python",
   "nbconvert_exporter": "python",
   "pygments_lexer": "ipython3",
   "version": "3.9.5"
  },
  "orig_nbformat": 4
 },
 "nbformat": 4,
 "nbformat_minor": 2
}

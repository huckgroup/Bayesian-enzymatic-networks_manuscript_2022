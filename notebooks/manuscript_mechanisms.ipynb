{
 "cells": [
  {
   "cell_type": "markdown",
   "metadata": {},
   "source": [
    "# Figure 5 - Reaction mechanism determination"
   ]
  },
  {
   "cell_type": "code",
   "execution_count": 1,
   "metadata": {},
   "outputs": [
    {
     "name": "stdout",
     "output_type": "stream",
     "text": [
      "Author: Mathieu Baltussen\n",
      "\n",
      "Last updated: 2022-04-11 12:08:58\n",
      "\n",
      "Python implementation: CPython\n",
      "Python version       : 3.9.5\n",
      "IPython version      : 8.2.0\n",
      "\n",
      "pymc3     : 3.11.4\n",
      "seaborn   : 0.11.2\n",
      "pandas    : 1.2.4\n",
      "theano    : 1.1.2\n",
      "networkx  : 2.6.3\n",
      "numpy     : 1.20.3\n",
      "matplotlib: 3.4.3\n",
      "scipy     : 1.6.3\n",
      "arviz     : 0.11.4\n",
      "\n"
     ]
    }
   ],
   "source": [
    "import numpy as np\n",
    "import pandas as pd\n",
    "import scipy.stats as stats\n",
    "import scipy.optimize as optimize\n",
    "\n",
    "import ast\n",
    "\n",
    "import pymc3 as pm\n",
    "import arviz as az\n",
    "import theano.tensor as tt\n",
    "\n",
    "import networkx as nx\n",
    "\n",
    "import matplotlib.pyplot as plt\n",
    "import matplotlib.gridspec as gridspec\n",
    "import seaborn as sns; sns.set_theme(style='ticks', context='paper', font_scale=0.8);\n",
    "\n",
    "%reload_ext watermark\n",
    "%watermark -a \"Mathieu Baltussen\" -d -t -u -v -iv"
   ]
  },
  {
   "cell_type": "markdown",
   "metadata": {},
   "source": [
    "## Helper functions for plotting"
   ]
  },
  {
   "cell_type": "code",
   "execution_count": 2,
   "metadata": {},
   "outputs": [],
   "source": [
    "def savefig(name):\n",
    "    plt.savefig(f\"../figures/{name}.svg\")\n",
    "    plt.savefig(f\"../figures/{name}.png\", dpi=300)\n",
    "\n",
    "XSIZE = 7.0 #inch\n",
    "YSIZE = XSIZE/np.sqrt(2) #inch\n",
    "\n",
    "def generate_figure(n_col, n_row):\n",
    "    DX = XSIZE/n_col\n",
    "    DY = YSIZE/n_col\n",
    "    YLENGTH = n_row*DY\n",
    "\n",
    "    fig = plt.figure(figsize=(XSIZE, YLENGTH), constrained_layout=True)\n",
    "    gs = fig.add_gridspec(n_row, n_col)\n",
    "    return fig, gs\n"
   ]
  },
  {
   "cell_type": "markdown",
   "metadata": {},
   "source": [
    "## Data loading"
   ]
  },
  {
   "cell_type": "code",
   "execution_count": 3,
   "metadata": {},
   "outputs": [],
   "source": [
    "experiments = pd.read_csv(f\"../data/kinetic_studies.csv\").query(\n",
    "    f'enzyme == \"G6PDH\"'\n",
    ")\n",
    "data = []\n",
    "for t in experiments.itertuples():\n",
    "    df = pd.read_csv(f\"../data/{t.data_path}\")\n",
    "    df = df.assign(\n",
    "        kf=t.flowrate / (60 * t.volume),\n",
    "        G6PDH=t.enzyme_concentration,\n",
    "        code=t.experiment_code,\n",
    "    )\n",
    "    data.append(df)\n",
    "\n",
    "data = pd.concat(data).reset_index(drop=True)\n",
    "\n",
    "exp_idx, exp_coords = data.code.factorize(sort=True)\n",
    "data = data.assign(\n",
    "    NAD_obs=data.NAD_in - data.NADH_obs,\n",
    "    G6P_obs=data.G6P_in - data.NADH_obs,\n",
    "    G6PdL_obs=data.NADH_obs,\n",
    "    exp_idx = exp_idx\n",
    ")"
   ]
  },
  {
   "cell_type": "markdown",
   "metadata": {},
   "source": [
    "## Creation of models"
   ]
  },
  {
   "cell_type": "code",
   "execution_count": 4,
   "metadata": {},
   "outputs": [],
   "source": [
    "def compile_model_0(data):\n",
    "    exp_idx, exp_coords = data.code.factorize(sort=True)\n",
    "    coords = {\"exp\": exp_coords}\n",
    "\n",
    "    with pm.Model(coords=coords) as model_0:\n",
    "        k_cat = pm.Uniform(\"k_cat\", 0, 500)\n",
    "        K_G6P = pm.Uniform(\"K_G6P\", 1, 4000)\n",
    "        K_NAD = pm.Uniform(\"K_NAD\", 1, 2000)\n",
    "\n",
    "        sigma = pm.Exponential(\"sigma\", 0.2, dims='exp')\n",
    "\n",
    "        G6PDH = pm.Data(\"G6PDH\", data.G6PDH.values)\n",
    "        NADH = pm.Data(\"NADH_obs\", data.NADH_obs.values)\n",
    "        NAD = pm.Data(\"NAD_obs\", data.NAD_obs.values)\n",
    "\n",
    "        G6P = pm.Data(\"G6P_obs\", data.G6P_obs.values)\n",
    "        G6PdL = pm.Data(\"G6PdL_obs\", data.G6PdL_obs.values)\n",
    "\n",
    "        G6P_in = pm.Data(\"G6P_in\", data.G6P_in.values)\n",
    "        NAD_in = pm.Data(\"NAD_in\", data.NAD_in.values)\n",
    "        kf = pm.Data(\"kf\", data.kf.values)\n",
    "\n",
    "        exp_idx = pm.Data(\"exp_idx\", data.exp_idx.values)\n",
    "\n",
    "        NADH_obs = pm.Normal(\"NADH\", \n",
    "                    mu = k_cat*G6PDH*G6P*NAD/(kf*K_G6P*K_NAD*(1 + G6P/K_G6P)*(1+NAD/K_NAD)),\n",
    "                    sigma=sigma[exp_idx],\n",
    "                    observed= NADH\n",
    "                    )\n",
    "    return model_0\n",
    "\n",
    "def compile_model_1(data):\n",
    "    exp_idx, exp_coords = data.code.factorize(sort=True)\n",
    "    coords = {\"exp\": exp_coords}\n",
    "\n",
    "    with pm.Model(coords=coords) as model_1:\n",
    "        k_cat = pm.Uniform(\"k_cat\", 0, 500)\n",
    "        K_G6P = pm.Uniform(\"K_G6P\", 1, 4000)\n",
    "        K_NAD = pm.Uniform(\"K_NAD\", 1, 2000)\n",
    "        KI_NADH = pm.Uniform(\"KI_NADH\", 1, 10000)\n",
    "\n",
    "        sigma = pm.Exponential(\"sigma\", 0.2, dims='exp')\n",
    "\n",
    "\n",
    "        G6PDH = pm.Data(\"G6PDH\", data.G6PDH.values)\n",
    "        NADH = pm.Data(\"NADH_obs\", data.NADH_obs.values)\n",
    "        NAD = pm.Data(\"NAD_obs\", data.NAD_obs.values)\n",
    "\n",
    "        G6P = pm.Data(\"G6P_obs\", data.G6P_obs.values)\n",
    "        G6PdL = pm.Data(\"G6PdL_obs\", data.G6PdL_obs.values)\n",
    "\n",
    "        G6P_in = pm.Data(\"G6P_in\", data.G6P_in.values)\n",
    "        NAD_in = pm.Data(\"NAD_in\", data.NAD_in.values)\n",
    "        kf = pm.Data(\"kf\", data.kf.values)\n",
    "\n",
    "        exp_idx = pm.Data(\"exp_idx\", data.exp_idx.values)\n",
    "\n",
    "        NADH_obs = pm.Normal(\"NADH\", \n",
    "                    mu = k_cat*G6PDH*G6P*NAD/(kf*K_G6P*K_NAD*(1 + G6P/K_G6P)*(1+NAD/K_NAD)*(1+ NADH/KI_NADH)),\n",
    "                    sigma=sigma[exp_idx],\n",
    "                    observed= NADH\n",
    "                    )\n",
    "    return model_1\n",
    "\n",
    "def compile_model_2(data):\n",
    "    exp_idx, exp_coords = data.code.factorize(sort=True)\n",
    "    coords = {\"exp\": exp_coords}\n",
    "\n",
    "    with pm.Model(coords=coords) as model_2:\n",
    "        k_cat = pm.Uniform(\"k_cat\", 0, 500)\n",
    "        K_G6P = pm.Uniform(\"K_G6P\", 1, 4000)\n",
    "        K_NAD = pm.Uniform(\"K_NAD\", 1, 2000)\n",
    "        KI_NADH = pm.Uniform(\"KI_NADH\", 1, 10000)\n",
    "\n",
    "        sigma = pm.Exponential(\"sigma\", 0.2, dims='exp')\n",
    "\n",
    "        G6PDH = pm.Data(\"G6PDH\", data.G6PDH.values)\n",
    "        NADH = pm.Data(\"NADH_obs\", data.NADH_obs.values)\n",
    "        NAD = pm.Data(\"NAD_obs\", data.NAD_obs.values)\n",
    "\n",
    "        G6P = pm.Data(\"G6P_obs\", data.G6P_obs.values)\n",
    "        G6PdL = pm.Data(\"G6PdL_obs\", data.G6PdL_obs.values)\n",
    "\n",
    "        G6P_in = pm.Data(\"G6P_in\", data.G6P_in.values)\n",
    "        NAD_in = pm.Data(\"NAD_in\", data.NAD_in.values)\n",
    "        kf = pm.Data(\"kf\", data.kf.values)\n",
    "\n",
    "        exp_idx = pm.Data(\"exp_idx\", data.exp_idx.values)\n",
    "\n",
    "        NADH_obs = pm.Normal(\"NADH\", \n",
    "                    mu = k_cat*G6PDH*G6P*NAD/(kf*K_G6P*K_NAD*(1 + G6P/K_G6P)*(1+NAD/K_NAD+ NADH/KI_NADH)),\n",
    "                    sigma=sigma[exp_idx],\n",
    "                    observed= NADH\n",
    "                    )\n",
    "    return model_2\n",
    "\n",
    "def compile_model_3(data):\n",
    "    exp_idx, exp_coords = data.code.factorize(sort=True)\n",
    "    coords = {\"exp\": exp_coords}\n",
    "\n",
    "    with pm.Model(coords=coords) as model_3:\n",
    "        k_cat = pm.Uniform(\"k_cat\", 0, 500)\n",
    "        K_G6P = pm.Uniform(\"K_G6P\", 1, 4000)\n",
    "        K_NAD = pm.Uniform(\"K_NAD\", 1, 2000)\n",
    "        KI_NADH = pm.Uniform(\"KI_NADH\", 1, 10000)\n",
    "\n",
    "        sigma = pm.Exponential(\"sigma\", 0.2, dims='exp')\n",
    "\n",
    "\n",
    "        G6PDH = pm.Data(\"G6PDH\", data.G6PDH.values)\n",
    "        NADH = pm.Data(\"NADH_obs\", data.NADH_obs.values)\n",
    "        NAD = pm.Data(\"NAD_obs\", data.NAD_obs.values)\n",
    "\n",
    "        G6P = pm.Data(\"G6P_obs\", data.G6P_obs.values)\n",
    "        G6PdL = pm.Data(\"G6PdL_obs\", data.G6PdL_obs.values)\n",
    "\n",
    "        G6P_in = pm.Data(\"G6P_in\", data.G6P_in.values)\n",
    "        NAD_in = pm.Data(\"NAD_in\", data.NAD_in.values)\n",
    "        kf = pm.Data(\"kf\", data.kf.values)\n",
    "\n",
    "        exp_idx = pm.Data(\"exp_idx\", data.exp_idx.values)\n",
    "\n",
    "        NADH_obs = pm.Normal(\"NADH\", \n",
    "                    mu = k_cat*G6PDH*G6P*NAD/(kf*K_G6P*K_NAD*(1 + G6P/K_G6P + NADH/KI_NADH)*(1+NAD/K_NAD)),\n",
    "                    sigma=sigma[exp_idx],\n",
    "                    observed= NADH\n",
    "                    )\n",
    "    return model_3\n",
    "\n",
    "def compile_model_4(data):\n",
    "    exp_idx, exp_coords = data.code.factorize(sort=True)\n",
    "    coords = {\"exp\": exp_coords}\n",
    "\n",
    "    with pm.Model(coords=coords) as model_4:\n",
    "        k_cat = pm.Uniform(\"k_cat\", 0, 500)\n",
    "        K_G6P = pm.Uniform(\"K_G6P\", 1, 4000)\n",
    "        K_NAD = pm.Uniform(\"K_NAD\", 1, 2000)\n",
    "        KI_NADH = pm.Uniform(\"KI_NADH\", 1, 10000)\n",
    "\n",
    "        sigma = pm.Exponential(\"sigma\", 0.2, dims='exp')\n",
    "\n",
    "        G6PDH = pm.Data(\"G6PDH\", data.G6PDH.values)\n",
    "        NADH = pm.Data(\"NADH_obs\", data.NADH_obs.values)\n",
    "        NAD = pm.Data(\"NAD_obs\", data.NAD_obs.values)\n",
    "\n",
    "        G6P = pm.Data(\"G6P_obs\", data.G6P_obs.values)\n",
    "        G6PdL = pm.Data(\"G6PdL_obs\", data.G6PdL_obs.values)\n",
    "\n",
    "        G6P_in = pm.Data(\"G6P_in\", data.G6P_in.values)\n",
    "        NAD_in = pm.Data(\"NAD_in\", data.NAD_in.values)\n",
    "        kf = pm.Data(\"kf\", data.kf.values)\n",
    "\n",
    "        exp_idx = pm.Data(\"exp_idx\", data.exp_idx.values)\n",
    "\n",
    "        NADH_obs = pm.Normal(\"NADH\", \n",
    "                    mu = k_cat*G6PDH*G6P*NAD/(kf*K_G6P*K_NAD*(1 + G6P/K_G6P + NADH/KI_NADH)*(1+NAD/K_NAD+ NADH/KI_NADH)),\n",
    "                    sigma=sigma[exp_idx],\n",
    "                    observed= NADH\n",
    "                    )\n",
    "    return model_4\n",
    "\n",
    "def compile_model_5(data):\n",
    "    exp_idx, exp_coords = data.code.factorize(sort=True)\n",
    "    coords = {\"exp\": exp_coords}\n",
    "\n",
    "    with pm.Model(coords=coords) as model_5:\n",
    "        k_cat = pm.Uniform(\"k_cat\", 0, 500)\n",
    "        K_G6P = pm.Uniform(\"K_G6P\", 1, 4000)\n",
    "        K_NAD = pm.Uniform(\"K_NAD\", 1, 2000)\n",
    "        KI_NADH = pm.Uniform(\"KI_NADH\", 1, 10000)\n",
    "\n",
    "        sigma = pm.Exponential(\"sigma\", 0.2, dims='exp')\n",
    "\n",
    "        G6PDH = pm.Data(\"G6PDH\", data.G6PDH.values)\n",
    "        NADH = pm.Data(\"NADH_obs\", data.NADH_obs.values)\n",
    "        NAD = pm.Data(\"NAD_obs\", data.NAD_obs.values)\n",
    "\n",
    "        G6P = pm.Data(\"G6P_obs\", data.G6P_obs.values)\n",
    "        G6PdL = pm.Data(\"G6PdL_obs\", data.G6PdL_obs.values)\n",
    "\n",
    "        G6P_in = pm.Data(\"G6P_in\", data.G6P_in.values)\n",
    "        NAD_in = pm.Data(\"NAD_in\", data.NAD_in.values)\n",
    "        kf = pm.Data(\"kf\", data.kf.values)\n",
    "\n",
    "        exp_idx = pm.Data(\"exp_idx\", data.exp_idx.values)\n",
    "\n",
    "        NADH_obs = pm.Normal(\"NADH\", \n",
    "                    mu = k_cat*G6PDH*G6P*NAD/(kf*K_G6P*K_NAD*(1 + G6P/K_G6P)*(1+NAD/K_NAD)*(1+ NADH/KI_NADH)*(1+ NADH/KI_NADH)),\n",
    "                    sigma=sigma[exp_idx],\n",
    "                    observed= NADH\n",
    "                    )\n",
    "    return model_5\n",
    "\n",
    "def compile_model_6(data):\n",
    "    exp_idx, exp_coords = data.code.factorize(sort=True)\n",
    "    coords = {\"exp\": exp_coords}\n",
    "\n",
    "    with pm.Model(coords=coords) as model_6:\n",
    "        k_cat = pm.Uniform(\"k_cat\", 0, 500)\n",
    "        K_G6P = pm.Uniform(\"K_G6P\", 1, 4000)\n",
    "        K_NAD = pm.Uniform(\"K_NAD\", 1, 2000)\n",
    "        KI_NADH = pm.Uniform(\"KI_NADH\", 1, 10000)\n",
    "\n",
    "        sigma = pm.Exponential(\"sigma\", 0.2, dims='exp')\n",
    "\n",
    "        G6PDH = pm.Data(\"G6PDH\", data.G6PDH.values)\n",
    "        NADH = pm.Data(\"NADH_obs\", data.NADH_obs.values)\n",
    "        NAD = pm.Data(\"NAD_obs\", data.NAD_obs.values)\n",
    "\n",
    "        G6P = pm.Data(\"G6P_obs\", data.G6P_obs.values)\n",
    "        G6PdL = pm.Data(\"G6PdL_obs\", data.G6PdL_obs.values)\n",
    "\n",
    "        G6P_in = pm.Data(\"G6P_in\", data.G6P_in.values)\n",
    "        NAD_in = pm.Data(\"NAD_in\", data.NAD_in.values)\n",
    "        kf = pm.Data(\"kf\", data.kf.values)\n",
    "\n",
    "        exp_idx = pm.Data(\"exp_idx\", data.exp_idx.values)\n",
    "\n",
    "        NADH_obs = pm.Normal(\"NADH\", \n",
    "                    mu = k_cat*G6PDH*G6P*NAD/(kf*K_G6P*K_NAD*KI_NADH*(1 + G6P/K_G6P)*(1+NAD/K_NAD)*(1+ NADH/KI_NADH)),\n",
    "                    sigma=sigma[exp_idx],\n",
    "                    observed= NADH\n",
    "                    )\n",
    "    return model_6"
   ]
  },
  {
   "cell_type": "markdown",
   "metadata": {},
   "source": [
    "## Model sampling"
   ]
  },
  {
   "cell_type": "code",
   "execution_count": 5,
   "metadata": {},
   "outputs": [],
   "source": [
    "sample_kwargs = {\"draws\": 1000, \"tune\": 1000, \"chains\": 4, 'target_accept': 0.92, 'progressbar': True, 'return_inferencedata': True}"
   ]
  },
  {
   "cell_type": "code",
   "execution_count": 6,
   "metadata": {},
   "outputs": [],
   "source": [
    "model_0 = compile_model_0(data)\n",
    "model_1 = compile_model_1(data)\n",
    "model_2 = compile_model_2(data)\n",
    "model_3 = compile_model_3(data)\n",
    "model_4 = compile_model_4(data)\n",
    "model_5 = compile_model_5(data)\n",
    "model_6 = compile_model_6(data)\n"
   ]
  },
  {
   "cell_type": "code",
   "execution_count": 7,
   "metadata": {},
   "outputs": [
    {
     "name": "stderr",
     "output_type": "stream",
     "text": [
      "Auto-assigning NUTS sampler...\n",
      "Initializing NUTS using jitter+adapt_diag...\n",
      "Multiprocess sampling (4 chains in 4 jobs)\n",
      "NUTS: [sigma, K_NAD, K_G6P, k_cat]\n"
     ]
    },
    {
     "data": {
      "text/html": [
       "\n",
       "<style>\n",
       "    /* Turns off some styling */\n",
       "    progress {\n",
       "        /* gets rid of default border in Firefox and Opera. */\n",
       "        border: none;\n",
       "        /* Needs to be in here for Safari polyfill so background images work as expected. */\n",
       "        background-size: auto;\n",
       "    }\n",
       "    .progress-bar-interrupted, .progress-bar-interrupted::-webkit-progress-bar {\n",
       "        background: #F44336;\n",
       "    }\n",
       "</style>\n"
      ],
      "text/plain": [
       "<IPython.core.display.HTML object>"
      ]
     },
     "metadata": {},
     "output_type": "display_data"
    },
    {
     "data": {
      "text/html": [
       "\n",
       "    <div>\n",
       "      <progress value='8000' class='' max='8000' style='width:300px; height:20px; vertical-align: middle;'></progress>\n",
       "      100.00% [8000/8000 00:06<00:00 Sampling 4 chains, 0 divergences]\n",
       "    </div>\n",
       "    "
      ],
      "text/plain": [
       "<IPython.core.display.HTML object>"
      ]
     },
     "metadata": {},
     "output_type": "display_data"
    },
    {
     "name": "stderr",
     "output_type": "stream",
     "text": [
      "Sampling 4 chains for 1_000 tune and 1_000 draw iterations (4_000 + 4_000 draws total) took 7 seconds.\n"
     ]
    }
   ],
   "source": [
    "with model_0:\n",
    "    idata_0 = pm.sample(**sample_kwargs)\n",
    "    idata_0.to_netcdf(\"idata/idata_H0.nc\")"
   ]
  },
  {
   "cell_type": "code",
   "execution_count": 8,
   "metadata": {},
   "outputs": [
    {
     "name": "stderr",
     "output_type": "stream",
     "text": [
      "Auto-assigning NUTS sampler...\n",
      "Initializing NUTS using jitter+adapt_diag...\n",
      "Multiprocess sampling (4 chains in 4 jobs)\n",
      "NUTS: [sigma, KI_NADH, K_NAD, K_G6P, k_cat]\n"
     ]
    },
    {
     "data": {
      "text/html": [
       "\n",
       "<style>\n",
       "    /* Turns off some styling */\n",
       "    progress {\n",
       "        /* gets rid of default border in Firefox and Opera. */\n",
       "        border: none;\n",
       "        /* Needs to be in here for Safari polyfill so background images work as expected. */\n",
       "        background-size: auto;\n",
       "    }\n",
       "    .progress-bar-interrupted, .progress-bar-interrupted::-webkit-progress-bar {\n",
       "        background: #F44336;\n",
       "    }\n",
       "</style>\n"
      ],
      "text/plain": [
       "<IPython.core.display.HTML object>"
      ]
     },
     "metadata": {},
     "output_type": "display_data"
    },
    {
     "data": {
      "text/html": [
       "\n",
       "    <div>\n",
       "      <progress value='8000' class='' max='8000' style='width:300px; height:20px; vertical-align: middle;'></progress>\n",
       "      100.00% [8000/8000 00:13<00:00 Sampling 4 chains, 0 divergences]\n",
       "    </div>\n",
       "    "
      ],
      "text/plain": [
       "<IPython.core.display.HTML object>"
      ]
     },
     "metadata": {},
     "output_type": "display_data"
    },
    {
     "name": "stderr",
     "output_type": "stream",
     "text": [
      "Sampling 4 chains for 1_000 tune and 1_000 draw iterations (4_000 + 4_000 draws total) took 14 seconds.\n"
     ]
    }
   ],
   "source": [
    "with model_1:\n",
    "    idata_1 = pm.sample(**sample_kwargs)\n",
    "    idata_1.to_netcdf(\"idata/idata_H1.nc\")"
   ]
  },
  {
   "cell_type": "code",
   "execution_count": 9,
   "metadata": {},
   "outputs": [
    {
     "name": "stderr",
     "output_type": "stream",
     "text": [
      "Auto-assigning NUTS sampler...\n",
      "Initializing NUTS using jitter+adapt_diag...\n",
      "Multiprocess sampling (4 chains in 4 jobs)\n",
      "NUTS: [sigma, KI_NADH, K_NAD, K_G6P, k_cat]\n"
     ]
    },
    {
     "data": {
      "text/html": [
       "\n",
       "<style>\n",
       "    /* Turns off some styling */\n",
       "    progress {\n",
       "        /* gets rid of default border in Firefox and Opera. */\n",
       "        border: none;\n",
       "        /* Needs to be in here for Safari polyfill so background images work as expected. */\n",
       "        background-size: auto;\n",
       "    }\n",
       "    .progress-bar-interrupted, .progress-bar-interrupted::-webkit-progress-bar {\n",
       "        background: #F44336;\n",
       "    }\n",
       "</style>\n"
      ],
      "text/plain": [
       "<IPython.core.display.HTML object>"
      ]
     },
     "metadata": {},
     "output_type": "display_data"
    },
    {
     "data": {
      "text/html": [
       "\n",
       "    <div>\n",
       "      <progress value='8000' class='' max='8000' style='width:300px; height:20px; vertical-align: middle;'></progress>\n",
       "      100.00% [8000/8000 00:13<00:00 Sampling 4 chains, 0 divergences]\n",
       "    </div>\n",
       "    "
      ],
      "text/plain": [
       "<IPython.core.display.HTML object>"
      ]
     },
     "metadata": {},
     "output_type": "display_data"
    },
    {
     "name": "stderr",
     "output_type": "stream",
     "text": [
      "Sampling 4 chains for 1_000 tune and 1_000 draw iterations (4_000 + 4_000 draws total) took 14 seconds.\n"
     ]
    }
   ],
   "source": [
    "with model_2:\n",
    "    idata_2 = pm.sample(**sample_kwargs)\n",
    "    idata_2.to_netcdf(\"idata/idata_H2.nc\")"
   ]
  },
  {
   "cell_type": "code",
   "execution_count": 10,
   "metadata": {},
   "outputs": [
    {
     "name": "stderr",
     "output_type": "stream",
     "text": [
      "Auto-assigning NUTS sampler...\n",
      "Initializing NUTS using jitter+adapt_diag...\n",
      "Multiprocess sampling (4 chains in 4 jobs)\n",
      "NUTS: [sigma, KI_NADH, K_NAD, K_G6P, k_cat]\n"
     ]
    },
    {
     "data": {
      "text/html": [
       "\n",
       "<style>\n",
       "    /* Turns off some styling */\n",
       "    progress {\n",
       "        /* gets rid of default border in Firefox and Opera. */\n",
       "        border: none;\n",
       "        /* Needs to be in here for Safari polyfill so background images work as expected. */\n",
       "        background-size: auto;\n",
       "    }\n",
       "    .progress-bar-interrupted, .progress-bar-interrupted::-webkit-progress-bar {\n",
       "        background: #F44336;\n",
       "    }\n",
       "</style>\n"
      ],
      "text/plain": [
       "<IPython.core.display.HTML object>"
      ]
     },
     "metadata": {},
     "output_type": "display_data"
    },
    {
     "data": {
      "text/html": [
       "\n",
       "    <div>\n",
       "      <progress value='8000' class='' max='8000' style='width:300px; height:20px; vertical-align: middle;'></progress>\n",
       "      100.00% [8000/8000 00:10<00:00 Sampling 4 chains, 0 divergences]\n",
       "    </div>\n",
       "    "
      ],
      "text/plain": [
       "<IPython.core.display.HTML object>"
      ]
     },
     "metadata": {},
     "output_type": "display_data"
    },
    {
     "name": "stderr",
     "output_type": "stream",
     "text": [
      "Sampling 4 chains for 1_000 tune and 1_000 draw iterations (4_000 + 4_000 draws total) took 11 seconds.\n"
     ]
    }
   ],
   "source": [
    "with model_3:\n",
    "    idata_3 = pm.sample(**sample_kwargs)\n",
    "    idata_3.to_netcdf(\"idata/idata_H3.nc\")"
   ]
  },
  {
   "cell_type": "code",
   "execution_count": 11,
   "metadata": {},
   "outputs": [
    {
     "name": "stderr",
     "output_type": "stream",
     "text": [
      "Auto-assigning NUTS sampler...\n",
      "Initializing NUTS using jitter+adapt_diag...\n",
      "Multiprocess sampling (4 chains in 4 jobs)\n",
      "NUTS: [sigma, KI_NADH, K_NAD, K_G6P, k_cat]\n"
     ]
    },
    {
     "data": {
      "text/html": [
       "\n",
       "<style>\n",
       "    /* Turns off some styling */\n",
       "    progress {\n",
       "        /* gets rid of default border in Firefox and Opera. */\n",
       "        border: none;\n",
       "        /* Needs to be in here for Safari polyfill so background images work as expected. */\n",
       "        background-size: auto;\n",
       "    }\n",
       "    .progress-bar-interrupted, .progress-bar-interrupted::-webkit-progress-bar {\n",
       "        background: #F44336;\n",
       "    }\n",
       "</style>\n"
      ],
      "text/plain": [
       "<IPython.core.display.HTML object>"
      ]
     },
     "metadata": {},
     "output_type": "display_data"
    },
    {
     "data": {
      "text/html": [
       "\n",
       "    <div>\n",
       "      <progress value='8000' class='' max='8000' style='width:300px; height:20px; vertical-align: middle;'></progress>\n",
       "      100.00% [8000/8000 00:10<00:00 Sampling 4 chains, 0 divergences]\n",
       "    </div>\n",
       "    "
      ],
      "text/plain": [
       "<IPython.core.display.HTML object>"
      ]
     },
     "metadata": {},
     "output_type": "display_data"
    },
    {
     "name": "stderr",
     "output_type": "stream",
     "text": [
      "Sampling 4 chains for 1_000 tune and 1_000 draw iterations (4_000 + 4_000 draws total) took 11 seconds.\n",
      "The number of effective samples is smaller than 25% for some parameters.\n"
     ]
    }
   ],
   "source": [
    "with model_4:\n",
    "    idata_4 = pm.sample(**sample_kwargs)\n",
    "    idata_4.to_netcdf(\"idata/idata_H4.nc\")"
   ]
  },
  {
   "cell_type": "code",
   "execution_count": 12,
   "metadata": {},
   "outputs": [
    {
     "name": "stderr",
     "output_type": "stream",
     "text": [
      "Auto-assigning NUTS sampler...\n",
      "Initializing NUTS using jitter+adapt_diag...\n",
      "Multiprocess sampling (4 chains in 4 jobs)\n",
      "NUTS: [sigma, KI_NADH, K_NAD, K_G6P, k_cat]\n"
     ]
    },
    {
     "data": {
      "text/html": [
       "\n",
       "<style>\n",
       "    /* Turns off some styling */\n",
       "    progress {\n",
       "        /* gets rid of default border in Firefox and Opera. */\n",
       "        border: none;\n",
       "        /* Needs to be in here for Safari polyfill so background images work as expected. */\n",
       "        background-size: auto;\n",
       "    }\n",
       "    .progress-bar-interrupted, .progress-bar-interrupted::-webkit-progress-bar {\n",
       "        background: #F44336;\n",
       "    }\n",
       "</style>\n"
      ],
      "text/plain": [
       "<IPython.core.display.HTML object>"
      ]
     },
     "metadata": {},
     "output_type": "display_data"
    },
    {
     "data": {
      "text/html": [
       "\n",
       "    <div>\n",
       "      <progress value='8000' class='' max='8000' style='width:300px; height:20px; vertical-align: middle;'></progress>\n",
       "      100.00% [8000/8000 00:12<00:00 Sampling 4 chains, 0 divergences]\n",
       "    </div>\n",
       "    "
      ],
      "text/plain": [
       "<IPython.core.display.HTML object>"
      ]
     },
     "metadata": {},
     "output_type": "display_data"
    },
    {
     "name": "stderr",
     "output_type": "stream",
     "text": [
      "Sampling 4 chains for 1_000 tune and 1_000 draw iterations (4_000 + 4_000 draws total) took 13 seconds.\n",
      "The number of effective samples is smaller than 25% for some parameters.\n"
     ]
    }
   ],
   "source": [
    "with model_5:\n",
    "    idata_5 = pm.sample(**sample_kwargs)\n",
    "    idata_5.to_netcdf(\"idata/idata_H5.nc\")"
   ]
  },
  {
   "cell_type": "code",
   "execution_count": 13,
   "metadata": {},
   "outputs": [
    {
     "name": "stderr",
     "output_type": "stream",
     "text": [
      "Auto-assigning NUTS sampler...\n",
      "Initializing NUTS using jitter+adapt_diag...\n",
      "Multiprocess sampling (4 chains in 4 jobs)\n",
      "NUTS: [sigma, KI_NADH, K_NAD, K_G6P, k_cat]\n"
     ]
    },
    {
     "data": {
      "text/html": [
       "\n",
       "<style>\n",
       "    /* Turns off some styling */\n",
       "    progress {\n",
       "        /* gets rid of default border in Firefox and Opera. */\n",
       "        border: none;\n",
       "        /* Needs to be in here for Safari polyfill so background images work as expected. */\n",
       "        background-size: auto;\n",
       "    }\n",
       "    .progress-bar-interrupted, .progress-bar-interrupted::-webkit-progress-bar {\n",
       "        background: #F44336;\n",
       "    }\n",
       "</style>\n"
      ],
      "text/plain": [
       "<IPython.core.display.HTML object>"
      ]
     },
     "metadata": {},
     "output_type": "display_data"
    },
    {
     "data": {
      "text/html": [
       "\n",
       "    <div>\n",
       "      <progress value='8000' class='' max='8000' style='width:300px; height:20px; vertical-align: middle;'></progress>\n",
       "      100.00% [8000/8000 00:04<00:00 Sampling 4 chains, 0 divergences]\n",
       "    </div>\n",
       "    "
      ],
      "text/plain": [
       "<IPython.core.display.HTML object>"
      ]
     },
     "metadata": {},
     "output_type": "display_data"
    },
    {
     "name": "stderr",
     "output_type": "stream",
     "text": [
      "Sampling 4 chains for 1_000 tune and 1_000 draw iterations (4_000 + 4_000 draws total) took 5 seconds.\n"
     ]
    }
   ],
   "source": [
    "with model_6:\n",
    "    idata_6 = pm.sample(**sample_kwargs)\n",
    "    idata_6.to_netcdf(\"idata/idata_H6.nc\")"
   ]
  },
  {
   "cell_type": "code",
   "execution_count": 14,
   "metadata": {},
   "outputs": [],
   "source": [
    "idata_0 = az.from_netcdf(\"idata/idata_H0.nc\")\n",
    "idata_1 = az.from_netcdf(\"idata/idata_H1.nc\")\n",
    "idata_2 = az.from_netcdf(\"idata/idata_H2.nc\")\n",
    "idata_3 = az.from_netcdf(\"idata/idata_H3.nc\")\n",
    "idata_4 = az.from_netcdf(\"idata/idata_H4.nc\")\n",
    "idata_5 = az.from_netcdf(\"idata/idata_H5.nc\")\n",
    "idata_6 = az.from_netcdf(\"idata/idata_H6.nc\")\n"
   ]
  },
  {
   "cell_type": "markdown",
   "metadata": {},
   "source": [
    "# Diagnostics"
   ]
  },
  {
   "cell_type": "code",
   "execution_count": 15,
   "metadata": {},
   "outputs": [],
   "source": [
    "def sampling_stats(idata: az.InferenceData):\n",
    "    return pd.DataFrame({'Chains': int(idata.sample_stats.coords['chain'].size), \n",
    "    'Tuning steps': int(idata.sample_stats.tuning_steps), \n",
    "    'Draws': int(idata.sample_stats.coords['draw'].size),\n",
    "    'Mean acceptance rate': round(idata.sample_stats.acceptance_rate.mean().values[()], 3),\n",
    "    'Divergences': int(idata.sample_stats.diverging.sum().values[()]), \n",
    "}, index=[0])\n"
   ]
  },
  {
   "cell_type": "code",
   "execution_count": 44,
   "metadata": {},
   "outputs": [],
   "source": [
    "hypothesis = {'H_0': idata_0,\n",
    "    'H_1': idata_2,\n",
    "    'H_2': idata_3,\n",
    "    'H_3': idata_1,\n",
    "    'H_4': idata_5\n",
    "}\n",
    "\n",
    "for k, v in hypothesis.items():\n",
    "    filename = f\"diagnostics/mechanisms_{k}_sampling.md\"\n",
    "    table_str = sampling_stats(v).to_markdown()\n",
    "    table_str += f'\\nTable: Sampling statistics for manuscript Figure 5, Hypothesis {k[-1]}'\n",
    "    with open(filename, 'wt') as f:\n",
    "        f.write(table_str)\n",
    "\n",
    "    filename = f\"diagnostics/mechanisms_{k}.md\"\n",
    "    table_str = az.summary(v, kind='diagnostics').round(2).to_markdown()\n",
    "    table_str += f'\\nTable: Sampling diagnostics for manuscript Figure 5, Hypothesis {k[-1]}'\n",
    "    with open(filename, 'wt') as f:\n",
    "        f.write(table_str)\n",
    "\n",
    "    az.plot_trace(v, filter_vars='like', figsize=(7, 1.25*5))\n",
    "    plt.tight_layout()\n",
    "    savefig(f\"mechanisms_{k}_traces\")\n",
    "    plt.close()"
   ]
  },
  {
   "cell_type": "markdown",
   "metadata": {},
   "source": [
    "## Posterior predictive sampling"
   ]
  },
  {
   "cell_type": "code",
   "execution_count": 17,
   "metadata": {},
   "outputs": [
    {
     "data": {
      "text/html": [
       "\n",
       "<style>\n",
       "    /* Turns off some styling */\n",
       "    progress {\n",
       "        /* gets rid of default border in Firefox and Opera. */\n",
       "        border: none;\n",
       "        /* Needs to be in here for Safari polyfill so background images work as expected. */\n",
       "        background-size: auto;\n",
       "    }\n",
       "    .progress-bar-interrupted, .progress-bar-interrupted::-webkit-progress-bar {\n",
       "        background: #F44336;\n",
       "    }\n",
       "</style>\n"
      ],
      "text/plain": [
       "<IPython.core.display.HTML object>"
      ]
     },
     "metadata": {},
     "output_type": "display_data"
    },
    {
     "data": {
      "text/html": [
       "\n",
       "    <div>\n",
       "      <progress value='4000' class='' max='4000' style='width:300px; height:20px; vertical-align: middle;'></progress>\n",
       "      100.00% [4000/4000 00:22<00:00]\n",
       "    </div>\n",
       "    "
      ],
      "text/plain": [
       "<IPython.core.display.HTML object>"
      ]
     },
     "metadata": {},
     "output_type": "display_data"
    },
    {
     "data": {
      "text/html": [
       "\n",
       "<style>\n",
       "    /* Turns off some styling */\n",
       "    progress {\n",
       "        /* gets rid of default border in Firefox and Opera. */\n",
       "        border: none;\n",
       "        /* Needs to be in here for Safari polyfill so background images work as expected. */\n",
       "        background-size: auto;\n",
       "    }\n",
       "    .progress-bar-interrupted, .progress-bar-interrupted::-webkit-progress-bar {\n",
       "        background: #F44336;\n",
       "    }\n",
       "</style>\n"
      ],
      "text/plain": [
       "<IPython.core.display.HTML object>"
      ]
     },
     "metadata": {},
     "output_type": "display_data"
    },
    {
     "data": {
      "text/html": [
       "\n",
       "    <div>\n",
       "      <progress value='4000' class='' max='4000' style='width:300px; height:20px; vertical-align: middle;'></progress>\n",
       "      100.00% [4000/4000 00:23<00:00]\n",
       "    </div>\n",
       "    "
      ],
      "text/plain": [
       "<IPython.core.display.HTML object>"
      ]
     },
     "metadata": {},
     "output_type": "display_data"
    },
    {
     "data": {
      "text/html": [
       "\n",
       "<style>\n",
       "    /* Turns off some styling */\n",
       "    progress {\n",
       "        /* gets rid of default border in Firefox and Opera. */\n",
       "        border: none;\n",
       "        /* Needs to be in here for Safari polyfill so background images work as expected. */\n",
       "        background-size: auto;\n",
       "    }\n",
       "    .progress-bar-interrupted, .progress-bar-interrupted::-webkit-progress-bar {\n",
       "        background: #F44336;\n",
       "    }\n",
       "</style>\n"
      ],
      "text/plain": [
       "<IPython.core.display.HTML object>"
      ]
     },
     "metadata": {},
     "output_type": "display_data"
    },
    {
     "data": {
      "text/html": [
       "\n",
       "    <div>\n",
       "      <progress value='4000' class='' max='4000' style='width:300px; height:20px; vertical-align: middle;'></progress>\n",
       "      100.00% [4000/4000 00:23<00:00]\n",
       "    </div>\n",
       "    "
      ],
      "text/plain": [
       "<IPython.core.display.HTML object>"
      ]
     },
     "metadata": {},
     "output_type": "display_data"
    },
    {
     "data": {
      "text/html": [
       "\n",
       "<style>\n",
       "    /* Turns off some styling */\n",
       "    progress {\n",
       "        /* gets rid of default border in Firefox and Opera. */\n",
       "        border: none;\n",
       "        /* Needs to be in here for Safari polyfill so background images work as expected. */\n",
       "        background-size: auto;\n",
       "    }\n",
       "    .progress-bar-interrupted, .progress-bar-interrupted::-webkit-progress-bar {\n",
       "        background: #F44336;\n",
       "    }\n",
       "</style>\n"
      ],
      "text/plain": [
       "<IPython.core.display.HTML object>"
      ]
     },
     "metadata": {},
     "output_type": "display_data"
    },
    {
     "data": {
      "text/html": [
       "\n",
       "    <div>\n",
       "      <progress value='4000' class='' max='4000' style='width:300px; height:20px; vertical-align: middle;'></progress>\n",
       "      100.00% [4000/4000 00:24<00:00]\n",
       "    </div>\n",
       "    "
      ],
      "text/plain": [
       "<IPython.core.display.HTML object>"
      ]
     },
     "metadata": {},
     "output_type": "display_data"
    },
    {
     "data": {
      "text/html": [
       "\n",
       "<style>\n",
       "    /* Turns off some styling */\n",
       "    progress {\n",
       "        /* gets rid of default border in Firefox and Opera. */\n",
       "        border: none;\n",
       "        /* Needs to be in here for Safari polyfill so background images work as expected. */\n",
       "        background-size: auto;\n",
       "    }\n",
       "    .progress-bar-interrupted, .progress-bar-interrupted::-webkit-progress-bar {\n",
       "        background: #F44336;\n",
       "    }\n",
       "</style>\n"
      ],
      "text/plain": [
       "<IPython.core.display.HTML object>"
      ]
     },
     "metadata": {},
     "output_type": "display_data"
    },
    {
     "data": {
      "text/html": [
       "\n",
       "    <div>\n",
       "      <progress value='4000' class='' max='4000' style='width:300px; height:20px; vertical-align: middle;'></progress>\n",
       "      100.00% [4000/4000 00:24<00:00]\n",
       "    </div>\n",
       "    "
      ],
      "text/plain": [
       "<IPython.core.display.HTML object>"
      ]
     },
     "metadata": {},
     "output_type": "display_data"
    },
    {
     "data": {
      "text/html": [
       "\n",
       "<style>\n",
       "    /* Turns off some styling */\n",
       "    progress {\n",
       "        /* gets rid of default border in Firefox and Opera. */\n",
       "        border: none;\n",
       "        /* Needs to be in here for Safari polyfill so background images work as expected. */\n",
       "        background-size: auto;\n",
       "    }\n",
       "    .progress-bar-interrupted, .progress-bar-interrupted::-webkit-progress-bar {\n",
       "        background: #F44336;\n",
       "    }\n",
       "</style>\n"
      ],
      "text/plain": [
       "<IPython.core.display.HTML object>"
      ]
     },
     "metadata": {},
     "output_type": "display_data"
    },
    {
     "data": {
      "text/html": [
       "\n",
       "    <div>\n",
       "      <progress value='4000' class='' max='4000' style='width:300px; height:20px; vertical-align: middle;'></progress>\n",
       "      100.00% [4000/4000 00:23<00:00]\n",
       "    </div>\n",
       "    "
      ],
      "text/plain": [
       "<IPython.core.display.HTML object>"
      ]
     },
     "metadata": {},
     "output_type": "display_data"
    }
   ],
   "source": [
    "with model_0:\n",
    "    post_pred_0 = pm.sample_posterior_predictive(idata_0, var_names=['NADH'] )\n",
    "with model_1:\n",
    "    post_pred_1 = pm.sample_posterior_predictive(idata_1, var_names=['NADH'] )\n",
    "with model_2:\n",
    "    post_pred_2 = pm.sample_posterior_predictive(idata_2, var_names=['NADH'] )\n",
    "with model_3:\n",
    "    post_pred_3 = pm.sample_posterior_predictive(idata_3, var_names=['NADH'] )\n",
    "with model_4:\n",
    "    post_pred_4 = pm.sample_posterior_predictive(idata_4, var_names=['NADH'] )\n",
    "with model_5:\n",
    "    post_pred_5 = pm.sample_posterior_predictive(idata_5, var_names=['NADH'] )"
   ]
  },
  {
   "cell_type": "markdown",
   "metadata": {},
   "source": [
    "# Analysis"
   ]
  },
  {
   "cell_type": "code",
   "execution_count": 42,
   "metadata": {},
   "outputs": [],
   "source": [
    "dataset_dict = {\n",
    "    r'$H_0$': idata_0,\n",
    "    r'$H_1$': idata_2,\n",
    "    r'$H_2$': idata_3,\n",
    "    r'$H_3$': idata_1,\n",
    "    r'$H_4$': idata_5\n",
    "}"
   ]
  },
  {
   "cell_type": "code",
   "execution_count": 43,
   "metadata": {},
   "outputs": [
    {
     "name": "stderr",
     "output_type": "stream",
     "text": [
      "/home/mathieu/anaconda3/envs/bayes/lib/python3.9/site-packages/arviz/stats/stats.py:694: UserWarning: Estimated shape parameter of Pareto distribution is greater than 0.7 for one or more samples. You should consider using a more robust model, this is because importance sampling is less likely to work well if the marginal posterior and LOO posterior are very different. This is more likely to happen with a non-robust model and highly influential observations.\n",
      "  warnings.warn(\n"
     ]
    },
    {
     "data": {
      "text/html": [
       "<div>\n",
       "<style scoped>\n",
       "    .dataframe tbody tr th:only-of-type {\n",
       "        vertical-align: middle;\n",
       "    }\n",
       "\n",
       "    .dataframe tbody tr th {\n",
       "        vertical-align: top;\n",
       "    }\n",
       "\n",
       "    .dataframe thead th {\n",
       "        text-align: right;\n",
       "    }\n",
       "</style>\n",
       "<table border=\"1\" class=\"dataframe\">\n",
       "  <thead>\n",
       "    <tr style=\"text-align: right;\">\n",
       "      <th></th>\n",
       "      <th>rank</th>\n",
       "      <th>loo</th>\n",
       "      <th>p_loo</th>\n",
       "      <th>d_loo</th>\n",
       "      <th>weight</th>\n",
       "      <th>se</th>\n",
       "      <th>dse</th>\n",
       "      <th>warning</th>\n",
       "      <th>loo_scale</th>\n",
       "    </tr>\n",
       "  </thead>\n",
       "  <tbody>\n",
       "    <tr>\n",
       "      <th>$H_4$</th>\n",
       "      <td>0</td>\n",
       "      <td>-254.491139</td>\n",
       "      <td>8.388564</td>\n",
       "      <td>0.000000</td>\n",
       "      <td>5.553834e-01</td>\n",
       "      <td>13.727017</td>\n",
       "      <td>0.000000</td>\n",
       "      <td>False</td>\n",
       "      <td>log</td>\n",
       "    </tr>\n",
       "    <tr>\n",
       "      <th>$H_3$</th>\n",
       "      <td>1</td>\n",
       "      <td>-256.594494</td>\n",
       "      <td>8.966612</td>\n",
       "      <td>2.103355</td>\n",
       "      <td>1.044037e-15</td>\n",
       "      <td>13.982137</td>\n",
       "      <td>1.123916</td>\n",
       "      <td>False</td>\n",
       "      <td>log</td>\n",
       "    </tr>\n",
       "    <tr>\n",
       "      <th>$H_1$</th>\n",
       "      <td>2</td>\n",
       "      <td>-259.502770</td>\n",
       "      <td>9.177433</td>\n",
       "      <td>5.011631</td>\n",
       "      <td>1.570332e-15</td>\n",
       "      <td>14.560152</td>\n",
       "      <td>3.079663</td>\n",
       "      <td>False</td>\n",
       "      <td>log</td>\n",
       "    </tr>\n",
       "    <tr>\n",
       "      <th>$H_2$</th>\n",
       "      <td>3</td>\n",
       "      <td>-263.954309</td>\n",
       "      <td>9.565849</td>\n",
       "      <td>9.463170</td>\n",
       "      <td>0.000000e+00</td>\n",
       "      <td>13.770358</td>\n",
       "      <td>3.548819</td>\n",
       "      <td>False</td>\n",
       "      <td>log</td>\n",
       "    </tr>\n",
       "    <tr>\n",
       "      <th>$H_0$</th>\n",
       "      <td>4</td>\n",
       "      <td>-272.064667</td>\n",
       "      <td>10.149979</td>\n",
       "      <td>17.573528</td>\n",
       "      <td>4.446166e-01</td>\n",
       "      <td>23.296089</td>\n",
       "      <td>15.553712</td>\n",
       "      <td>True</td>\n",
       "      <td>log</td>\n",
       "    </tr>\n",
       "  </tbody>\n",
       "</table>\n",
       "</div>"
      ],
      "text/plain": [
       "       rank         loo      p_loo      d_loo        weight         se  \\\n",
       "$H_4$     0 -254.491139   8.388564   0.000000  5.553834e-01  13.727017   \n",
       "$H_3$     1 -256.594494   8.966612   2.103355  1.044037e-15  13.982137   \n",
       "$H_1$     2 -259.502770   9.177433   5.011631  1.570332e-15  14.560152   \n",
       "$H_2$     3 -263.954309   9.565849   9.463170  0.000000e+00  13.770358   \n",
       "$H_0$     4 -272.064667  10.149979  17.573528  4.446166e-01  23.296089   \n",
       "\n",
       "             dse  warning loo_scale  \n",
       "$H_4$   0.000000    False       log  \n",
       "$H_3$   1.123916    False       log  \n",
       "$H_1$   3.079663    False       log  \n",
       "$H_2$   3.548819    False       log  \n",
       "$H_0$  15.553712     True       log  "
      ]
     },
     "execution_count": 43,
     "metadata": {},
     "output_type": "execute_result"
    }
   ],
   "source": [
    "az.compare(dataset_dict, ic='loo', method='stacking')"
   ]
  },
  {
   "cell_type": "markdown",
   "metadata": {},
   "source": [
    "# Exact LOO comparisons"
   ]
  },
  {
   "cell_type": "code",
   "execution_count": 33,
   "metadata": {},
   "outputs": [],
   "source": [
    "def select_observations(data, idx):\n",
    "    return data.drop(idx), data.iloc[idx]\n",
    "\n",
    "class PyMC3LinRegWrapper(az.SamplingWrapper):\n",
    "    def __init__(self, data, data_vars, model, **kwargs):\n",
    "        self.data = data\n",
    "        self.data_vars = data_vars\n",
    "\n",
    "        __selected_data, _ = self.sel_observations([0]) # Pre-compile model with LOO corrected shape\n",
    "        self.pymc3_model = model(__selected_data)\n",
    "        \n",
    "        super(PyMC3LinRegWrapper, self).__init__(model=model, **kwargs)\n",
    "\n",
    "    def sample(self, modified_observed_data):\n",
    "        with self.pymc3_model:\n",
    "            pm.set_data(\n",
    "                modified_observed_data[self.data_vars]\n",
    "            )\n",
    "            trace = pm.sample(\n",
    "                **(self.sample_kwargs | { 'return_inferencedata': False}), \n",
    "                idata_kwargs={\"log_likelihood\": False}\n",
    "            )\n",
    "        return trace\n",
    "    \n",
    "    def get_inference_data(self, trace):\n",
    "        idata = az.from_pymc3(trace, model=self.pymc3_model, **self.idata_kwargs)\n",
    "        idata.pymc3_trace = trace\n",
    "        return idata\n",
    "        \n",
    "    def log_likelihood__i(self, excluded_observed_data, idata__i):\n",
    "        with self.pymc3_model:\n",
    "            pm.set_data(excluded_observed_data[self.data_vars])\n",
    "        log_lik__i = az.from_pymc3(idata__i.pymc3_trace, model=self.pymc3_model, log_likelihood=True).log_likelihood[\"NADH\"]\n",
    "        return log_lik__i\n",
    "        \n",
    "    def sel_observations(self, idx):\n",
    "        return select_observations(self.data, idx)"
   ]
  },
  {
   "cell_type": "code",
   "execution_count": 34,
   "metadata": {},
   "outputs": [],
   "source": [
    "def custom_compare(dataset_dict, original_data, data_vars, sample_kwargs, ic='loo', method=\"stacking\", b_samples=1000, alpha=1, seed=None, scale=None):\n",
    "    \"\"\" Adapted from the arviz.compare function, \n",
    "    to perform exact LOO for observations where the PSIS-LOO Pareto shape exceeds 0.5.\n",
    "    Only the loo information criterion, with stacking comparison method is implemented.\n",
    "    \"\"\"\n",
    "    names = list(dataset_dict.keys())\n",
    "    scale_value = 1\n",
    "    ascending = False\n",
    "\n",
    "    ic_func = az.loo\n",
    "    df_comp = pd.DataFrame(\n",
    "            index=names,\n",
    "            columns=[\n",
    "                \"rank\",\n",
    "                \"loo\",\n",
    "                \"p_loo\",\n",
    "                \"d_loo\",\n",
    "                \"weight\",\n",
    "                \"se\",\n",
    "                \"dse\",\n",
    "                \"warning\",\n",
    "                \"loo_scale\",\n",
    "                \"n_eloo\"\n",
    "            ],\n",
    "            dtype=np.float64,\n",
    "        )\n",
    "    scale_col = \"loo_scale\"\n",
    "\n",
    "    ic_se = f\"{ic}_se\"\n",
    "    p_ic = f\"p_{ic}\"\n",
    "    ic_i = f\"{ic}_i\"\n",
    "\n",
    "    ics = pd.DataFrame()\n",
    "    names = []\n",
    "    n_eloos = []\n",
    "    for name, (dataset, model_compiler) in dataset_dict.items():\n",
    "        names.append(name)\n",
    "\n",
    "        loo_orig = ic_func(dataset, pointwise=True, scale=scale)\n",
    "        n_eloos.append((loo_orig.pareto_k > 0.5).sum().values)\n",
    "        pymc3_wrapper = PyMC3LinRegWrapper(\n",
    "            model=model_compiler, data=original_data, \n",
    "            data_vars=data_vars,\n",
    "            sample_kwargs=sample_kwargs\n",
    "        )\n",
    "\n",
    "        ics = ics.append([az.reloo(pymc3_wrapper, loo_orig=loo_orig, k_thresh=0.5)])\n",
    "    ics.index = names\n",
    "    ics.sort_values(by=ic, inplace=True, ascending=ascending)\n",
    "    ics[ic_i] = ics[ic_i].apply(lambda x: x.values.flatten())\n",
    "    ics = ics.assign(n_eloo=n_eloos)\n",
    "\n",
    "    from arviz.stats.stats import _ic_matrix\n",
    "    from scipy.optimize import minimize\n",
    "    if method.lower() == \"stacking\":\n",
    "        rows, cols, ic_i_val = _ic_matrix(ics, ic_i)\n",
    "        exp_ic_i = np.exp(ic_i_val / scale_value)\n",
    "        km1 = cols - 1\n",
    "\n",
    "        def w_fuller(weights):\n",
    "            return np.concatenate((weights, [max(1.0 - np.sum(weights), 0.0)]))\n",
    "\n",
    "        def log_score(weights):\n",
    "            w_full = w_fuller(weights)\n",
    "            score = 0.0\n",
    "            for i in range(rows):\n",
    "                score += np.log(np.dot(exp_ic_i[i], w_full))\n",
    "            return -score\n",
    "\n",
    "        def gradient(weights):\n",
    "            w_full = w_fuller(weights)\n",
    "            grad = np.zeros(km1)\n",
    "            for k in range(km1):\n",
    "                for i in range(rows):\n",
    "                    grad[k] += (exp_ic_i[i, k] - exp_ic_i[i, km1]) / np.dot(exp_ic_i[i], w_full)\n",
    "            return -grad\n",
    "\n",
    "        theta = np.full(km1, 1.0 / cols)\n",
    "        bounds = [(0.0, 1.0) for _ in range(km1)]\n",
    "        constraints = [\n",
    "            {\"type\": \"ineq\", \"fun\": lambda x: -np.sum(x) + 1.0},\n",
    "            {\"type\": \"ineq\", \"fun\": np.sum},\n",
    "        ]\n",
    "\n",
    "        weights = minimize(\n",
    "            fun=log_score, x0=theta, jac=gradient, bounds=bounds, constraints=constraints\n",
    "        )\n",
    "\n",
    "        weights = w_fuller(weights[\"x\"])\n",
    "        ses = ics[ic_se]\n",
    "    if np.any(weights):\n",
    "        min_ic_i_val = ics[ic_i].iloc[0]\n",
    "        for idx, val in enumerate(ics.index):\n",
    "            res = ics.loc[val]\n",
    "            if scale_value < 0:\n",
    "                diff = res[ic_i] - min_ic_i_val\n",
    "            else:\n",
    "                diff = min_ic_i_val - res[ic_i]\n",
    "            d_ic = np.sum(diff)\n",
    "            d_std_err = np.sqrt(len(diff) * np.var(diff))\n",
    "            std_err = ses.loc[val]\n",
    "            weight = weights[idx]\n",
    "            df_comp.at[val] = (\n",
    "                idx,\n",
    "                res[ic],\n",
    "                res[p_ic],\n",
    "                d_ic,\n",
    "                weight,\n",
    "                std_err,\n",
    "                d_std_err,\n",
    "                res[\"warning\"],\n",
    "                res[scale_col],\n",
    "                res['n_eloo']\n",
    "            )\n",
    "\n",
    "    df_comp[\"rank\"] = df_comp[\"rank\"].astype(int)\n",
    "    df_comp[\"warning\"] = df_comp[\"warning\"].astype(bool)\n",
    "    df_comp[\"n_eloo\"] = df_comp[\"n_eloo\"].astype(int)\n",
    "\n",
    "    return df_comp.sort_values(by=ic, ascending=ascending)"
   ]
  },
  {
   "cell_type": "code",
   "execution_count": 35,
   "metadata": {
    "collapsed": true
   },
   "outputs": [
    {
     "name": "stderr",
     "output_type": "stream",
     "text": [
      "/home/mathieu/anaconda3/envs/bayes/lib/python3.9/site-packages/arviz/stats/stats.py:694: UserWarning: Estimated shape parameter of Pareto distribution is greater than 0.7 for one or more samples. You should consider using a more robust model, this is because importance sampling is less likely to work well if the marginal posterior and LOO posterior are very different. This is more likely to happen with a non-robust model and highly influential observations.\n",
      "  warnings.warn(\n",
      "/home/mathieu/anaconda3/envs/bayes/lib/python3.9/site-packages/arviz/stats/stats_refitting.py:99: UserWarning: reloo is an experimental and untested feature\n",
      "  warnings.warn(\"reloo is an experimental and untested feature\", UserWarning)\n",
      "Auto-assigning NUTS sampler...\n",
      "Initializing NUTS using jitter+adapt_diag...\n",
      "Multiprocess sampling (4 chains in 4 jobs)\n",
      "NUTS: [sigma, K_NAD, K_G6P, k_cat]\n"
     ]
    },
    {
     "data": {
      "text/html": [
       "\n",
       "<style>\n",
       "    /* Turns off some styling */\n",
       "    progress {\n",
       "        /* gets rid of default border in Firefox and Opera. */\n",
       "        border: none;\n",
       "        /* Needs to be in here for Safari polyfill so background images work as expected. */\n",
       "        background-size: auto;\n",
       "    }\n",
       "    .progress-bar-interrupted, .progress-bar-interrupted::-webkit-progress-bar {\n",
       "        background: #F44336;\n",
       "    }\n",
       "</style>\n"
      ],
      "text/plain": [
       "<IPython.core.display.HTML object>"
      ]
     },
     "metadata": {},
     "output_type": "display_data"
    },
    {
     "data": {
      "text/html": [
       "\n",
       "    <div>\n",
       "      <progress value='8000' class='' max='8000' style='width:300px; height:20px; vertical-align: middle;'></progress>\n",
       "      100.00% [8000/8000 00:13<00:00 Sampling 4 chains, 0 divergences]\n",
       "    </div>\n",
       "    "
      ],
      "text/plain": [
       "<IPython.core.display.HTML object>"
      ]
     },
     "metadata": {},
     "output_type": "display_data"
    },
    {
     "name": "stderr",
     "output_type": "stream",
     "text": [
      "Sampling 4 chains for 1_000 tune and 1_000 draw iterations (4_000 + 4_000 draws total) took 13 seconds.\n",
      "Auto-assigning NUTS sampler...\n",
      "Initializing NUTS using jitter+adapt_diag...\n",
      "Multiprocess sampling (4 chains in 4 jobs)\n",
      "NUTS: [sigma, K_NAD, K_G6P, k_cat]\n"
     ]
    },
    {
     "data": {
      "text/html": [
       "\n",
       "<style>\n",
       "    /* Turns off some styling */\n",
       "    progress {\n",
       "        /* gets rid of default border in Firefox and Opera. */\n",
       "        border: none;\n",
       "        /* Needs to be in here for Safari polyfill so background images work as expected. */\n",
       "        background-size: auto;\n",
       "    }\n",
       "    .progress-bar-interrupted, .progress-bar-interrupted::-webkit-progress-bar {\n",
       "        background: #F44336;\n",
       "    }\n",
       "</style>\n"
      ],
      "text/plain": [
       "<IPython.core.display.HTML object>"
      ]
     },
     "metadata": {},
     "output_type": "display_data"
    },
    {
     "data": {
      "text/html": [
       "\n",
       "    <div>\n",
       "      <progress value='8000' class='' max='8000' style='width:300px; height:20px; vertical-align: middle;'></progress>\n",
       "      100.00% [8000/8000 00:06<00:00 Sampling 4 chains, 0 divergences]\n",
       "    </div>\n",
       "    "
      ],
      "text/plain": [
       "<IPython.core.display.HTML object>"
      ]
     },
     "metadata": {},
     "output_type": "display_data"
    },
    {
     "name": "stderr",
     "output_type": "stream",
     "text": [
      "Sampling 4 chains for 1_000 tune and 1_000 draw iterations (4_000 + 4_000 draws total) took 6 seconds.\n",
      "Auto-assigning NUTS sampler...\n",
      "Initializing NUTS using jitter+adapt_diag...\n",
      "Multiprocess sampling (4 chains in 4 jobs)\n",
      "NUTS: [sigma, K_NAD, K_G6P, k_cat]\n"
     ]
    },
    {
     "data": {
      "text/html": [
       "\n",
       "<style>\n",
       "    /* Turns off some styling */\n",
       "    progress {\n",
       "        /* gets rid of default border in Firefox and Opera. */\n",
       "        border: none;\n",
       "        /* Needs to be in here for Safari polyfill so background images work as expected. */\n",
       "        background-size: auto;\n",
       "    }\n",
       "    .progress-bar-interrupted, .progress-bar-interrupted::-webkit-progress-bar {\n",
       "        background: #F44336;\n",
       "    }\n",
       "</style>\n"
      ],
      "text/plain": [
       "<IPython.core.display.HTML object>"
      ]
     },
     "metadata": {},
     "output_type": "display_data"
    },
    {
     "data": {
      "text/html": [
       "\n",
       "    <div>\n",
       "      <progress value='8000' class='' max='8000' style='width:300px; height:20px; vertical-align: middle;'></progress>\n",
       "      100.00% [8000/8000 00:11<00:00 Sampling 4 chains, 0 divergences]\n",
       "    </div>\n",
       "    "
      ],
      "text/plain": [
       "<IPython.core.display.HTML object>"
      ]
     },
     "metadata": {},
     "output_type": "display_data"
    },
    {
     "name": "stderr",
     "output_type": "stream",
     "text": [
      "Sampling 4 chains for 1_000 tune and 1_000 draw iterations (4_000 + 4_000 draws total) took 11 seconds.\n",
      "/home/mathieu/anaconda3/envs/bayes/lib/python3.9/site-packages/arviz/stats/stats_refitting.py:99: UserWarning: reloo is an experimental and untested feature\n",
      "  warnings.warn(\"reloo is an experimental and untested feature\", UserWarning)\n",
      "Auto-assigning NUTS sampler...\n",
      "Initializing NUTS using jitter+adapt_diag...\n",
      "Multiprocess sampling (4 chains in 4 jobs)\n",
      "NUTS: [sigma, KI_NADH, K_NAD, K_G6P, k_cat]\n"
     ]
    },
    {
     "data": {
      "text/html": [
       "\n",
       "<style>\n",
       "    /* Turns off some styling */\n",
       "    progress {\n",
       "        /* gets rid of default border in Firefox and Opera. */\n",
       "        border: none;\n",
       "        /* Needs to be in here for Safari polyfill so background images work as expected. */\n",
       "        background-size: auto;\n",
       "    }\n",
       "    .progress-bar-interrupted, .progress-bar-interrupted::-webkit-progress-bar {\n",
       "        background: #F44336;\n",
       "    }\n",
       "</style>\n"
      ],
      "text/plain": [
       "<IPython.core.display.HTML object>"
      ]
     },
     "metadata": {},
     "output_type": "display_data"
    },
    {
     "data": {
      "text/html": [
       "\n",
       "    <div>\n",
       "      <progress value='8000' class='' max='8000' style='width:300px; height:20px; vertical-align: middle;'></progress>\n",
       "      100.00% [8000/8000 00:12<00:00 Sampling 4 chains, 1 divergences]\n",
       "    </div>\n",
       "    "
      ],
      "text/plain": [
       "<IPython.core.display.HTML object>"
      ]
     },
     "metadata": {},
     "output_type": "display_data"
    },
    {
     "name": "stderr",
     "output_type": "stream",
     "text": [
      "Sampling 4 chains for 1_000 tune and 1_000 draw iterations (4_000 + 4_000 draws total) took 13 seconds.\n",
      "There was 1 divergence after tuning. Increase `target_accept` or reparameterize.\n",
      "/home/mathieu/anaconda3/envs/bayes/lib/python3.9/site-packages/arviz/stats/stats_refitting.py:99: UserWarning: reloo is an experimental and untested feature\n",
      "  warnings.warn(\"reloo is an experimental and untested feature\", UserWarning)\n",
      "Auto-assigning NUTS sampler...\n",
      "Initializing NUTS using jitter+adapt_diag...\n",
      "Multiprocess sampling (4 chains in 4 jobs)\n",
      "NUTS: [sigma, KI_NADH, K_NAD, K_G6P, k_cat]\n"
     ]
    },
    {
     "data": {
      "text/html": [
       "\n",
       "<style>\n",
       "    /* Turns off some styling */\n",
       "    progress {\n",
       "        /* gets rid of default border in Firefox and Opera. */\n",
       "        border: none;\n",
       "        /* Needs to be in here for Safari polyfill so background images work as expected. */\n",
       "        background-size: auto;\n",
       "    }\n",
       "    .progress-bar-interrupted, .progress-bar-interrupted::-webkit-progress-bar {\n",
       "        background: #F44336;\n",
       "    }\n",
       "</style>\n"
      ],
      "text/plain": [
       "<IPython.core.display.HTML object>"
      ]
     },
     "metadata": {},
     "output_type": "display_data"
    },
    {
     "data": {
      "text/html": [
       "\n",
       "    <div>\n",
       "      <progress value='8000' class='' max='8000' style='width:300px; height:20px; vertical-align: middle;'></progress>\n",
       "      100.00% [8000/8000 00:10<00:00 Sampling 4 chains, 0 divergences]\n",
       "    </div>\n",
       "    "
      ],
      "text/plain": [
       "<IPython.core.display.HTML object>"
      ]
     },
     "metadata": {},
     "output_type": "display_data"
    },
    {
     "name": "stderr",
     "output_type": "stream",
     "text": [
      "Sampling 4 chains for 1_000 tune and 1_000 draw iterations (4_000 + 4_000 draws total) took 10 seconds.\n",
      "Auto-assigning NUTS sampler...\n",
      "Initializing NUTS using jitter+adapt_diag...\n",
      "Multiprocess sampling (4 chains in 4 jobs)\n",
      "NUTS: [sigma, KI_NADH, K_NAD, K_G6P, k_cat]\n"
     ]
    },
    {
     "data": {
      "text/html": [
       "\n",
       "<style>\n",
       "    /* Turns off some styling */\n",
       "    progress {\n",
       "        /* gets rid of default border in Firefox and Opera. */\n",
       "        border: none;\n",
       "        /* Needs to be in here for Safari polyfill so background images work as expected. */\n",
       "        background-size: auto;\n",
       "    }\n",
       "    .progress-bar-interrupted, .progress-bar-interrupted::-webkit-progress-bar {\n",
       "        background: #F44336;\n",
       "    }\n",
       "</style>\n"
      ],
      "text/plain": [
       "<IPython.core.display.HTML object>"
      ]
     },
     "metadata": {},
     "output_type": "display_data"
    },
    {
     "data": {
      "text/html": [
       "\n",
       "    <div>\n",
       "      <progress value='8000' class='' max='8000' style='width:300px; height:20px; vertical-align: middle;'></progress>\n",
       "      100.00% [8000/8000 00:11<00:00 Sampling 4 chains, 0 divergences]\n",
       "    </div>\n",
       "    "
      ],
      "text/plain": [
       "<IPython.core.display.HTML object>"
      ]
     },
     "metadata": {},
     "output_type": "display_data"
    },
    {
     "name": "stderr",
     "output_type": "stream",
     "text": [
      "Sampling 4 chains for 1_000 tune and 1_000 draw iterations (4_000 + 4_000 draws total) took 12 seconds.\n",
      "Auto-assigning NUTS sampler...\n",
      "Initializing NUTS using jitter+adapt_diag...\n",
      "Multiprocess sampling (4 chains in 4 jobs)\n",
      "NUTS: [sigma, KI_NADH, K_NAD, K_G6P, k_cat]\n"
     ]
    },
    {
     "data": {
      "text/html": [
       "\n",
       "<style>\n",
       "    /* Turns off some styling */\n",
       "    progress {\n",
       "        /* gets rid of default border in Firefox and Opera. */\n",
       "        border: none;\n",
       "        /* Needs to be in here for Safari polyfill so background images work as expected. */\n",
       "        background-size: auto;\n",
       "    }\n",
       "    .progress-bar-interrupted, .progress-bar-interrupted::-webkit-progress-bar {\n",
       "        background: #F44336;\n",
       "    }\n",
       "</style>\n"
      ],
      "text/plain": [
       "<IPython.core.display.HTML object>"
      ]
     },
     "metadata": {},
     "output_type": "display_data"
    },
    {
     "data": {
      "text/html": [
       "\n",
       "    <div>\n",
       "      <progress value='8000' class='' max='8000' style='width:300px; height:20px; vertical-align: middle;'></progress>\n",
       "      100.00% [8000/8000 00:09<00:00 Sampling 4 chains, 0 divergences]\n",
       "    </div>\n",
       "    "
      ],
      "text/plain": [
       "<IPython.core.display.HTML object>"
      ]
     },
     "metadata": {},
     "output_type": "display_data"
    },
    {
     "name": "stderr",
     "output_type": "stream",
     "text": [
      "Sampling 4 chains for 1_000 tune and 1_000 draw iterations (4_000 + 4_000 draws total) took 10 seconds.\n",
      "/home/mathieu/anaconda3/envs/bayes/lib/python3.9/site-packages/arviz/stats/stats_refitting.py:99: UserWarning: reloo is an experimental and untested feature\n",
      "  warnings.warn(\"reloo is an experimental and untested feature\", UserWarning)\n",
      "Auto-assigning NUTS sampler...\n",
      "Initializing NUTS using jitter+adapt_diag...\n",
      "Multiprocess sampling (4 chains in 4 jobs)\n",
      "NUTS: [sigma, KI_NADH, K_NAD, K_G6P, k_cat]\n"
     ]
    },
    {
     "data": {
      "text/html": [
       "\n",
       "<style>\n",
       "    /* Turns off some styling */\n",
       "    progress {\n",
       "        /* gets rid of default border in Firefox and Opera. */\n",
       "        border: none;\n",
       "        /* Needs to be in here for Safari polyfill so background images work as expected. */\n",
       "        background-size: auto;\n",
       "    }\n",
       "    .progress-bar-interrupted, .progress-bar-interrupted::-webkit-progress-bar {\n",
       "        background: #F44336;\n",
       "    }\n",
       "</style>\n"
      ],
      "text/plain": [
       "<IPython.core.display.HTML object>"
      ]
     },
     "metadata": {},
     "output_type": "display_data"
    },
    {
     "data": {
      "text/html": [
       "\n",
       "    <div>\n",
       "      <progress value='8000' class='' max='8000' style='width:300px; height:20px; vertical-align: middle;'></progress>\n",
       "      100.00% [8000/8000 00:11<00:00 Sampling 4 chains, 0 divergences]\n",
       "    </div>\n",
       "    "
      ],
      "text/plain": [
       "<IPython.core.display.HTML object>"
      ]
     },
     "metadata": {},
     "output_type": "display_data"
    },
    {
     "name": "stderr",
     "output_type": "stream",
     "text": [
      "Sampling 4 chains for 1_000 tune and 1_000 draw iterations (4_000 + 4_000 draws total) took 12 seconds.\n",
      "The number of effective samples is smaller than 25% for some parameters.\n",
      "Auto-assigning NUTS sampler...\n",
      "Initializing NUTS using jitter+adapt_diag...\n",
      "Multiprocess sampling (4 chains in 4 jobs)\n",
      "NUTS: [sigma, KI_NADH, K_NAD, K_G6P, k_cat]\n"
     ]
    },
    {
     "data": {
      "text/html": [
       "\n",
       "<style>\n",
       "    /* Turns off some styling */\n",
       "    progress {\n",
       "        /* gets rid of default border in Firefox and Opera. */\n",
       "        border: none;\n",
       "        /* Needs to be in here for Safari polyfill so background images work as expected. */\n",
       "        background-size: auto;\n",
       "    }\n",
       "    .progress-bar-interrupted, .progress-bar-interrupted::-webkit-progress-bar {\n",
       "        background: #F44336;\n",
       "    }\n",
       "</style>\n"
      ],
      "text/plain": [
       "<IPython.core.display.HTML object>"
      ]
     },
     "metadata": {},
     "output_type": "display_data"
    },
    {
     "data": {
      "text/html": [
       "\n",
       "    <div>\n",
       "      <progress value='8000' class='' max='8000' style='width:300px; height:20px; vertical-align: middle;'></progress>\n",
       "      100.00% [8000/8000 00:14<00:00 Sampling 4 chains, 0 divergences]\n",
       "    </div>\n",
       "    "
      ],
      "text/plain": [
       "<IPython.core.display.HTML object>"
      ]
     },
     "metadata": {},
     "output_type": "display_data"
    },
    {
     "name": "stderr",
     "output_type": "stream",
     "text": [
      "Sampling 4 chains for 1_000 tune and 1_000 draw iterations (4_000 + 4_000 draws total) took 15 seconds.\n",
      "The number of effective samples is smaller than 25% for some parameters.\n",
      "/home/mathieu/anaconda3/envs/bayes/lib/python3.9/site-packages/arviz/stats/stats_refitting.py:99: UserWarning: reloo is an experimental and untested feature\n",
      "  warnings.warn(\"reloo is an experimental and untested feature\", UserWarning)\n",
      "Auto-assigning NUTS sampler...\n",
      "Initializing NUTS using jitter+adapt_diag...\n",
      "Multiprocess sampling (4 chains in 4 jobs)\n",
      "NUTS: [sigma, KI_NADH, K_NAD, K_G6P, k_cat]\n"
     ]
    },
    {
     "data": {
      "text/html": [
       "\n",
       "<style>\n",
       "    /* Turns off some styling */\n",
       "    progress {\n",
       "        /* gets rid of default border in Firefox and Opera. */\n",
       "        border: none;\n",
       "        /* Needs to be in here for Safari polyfill so background images work as expected. */\n",
       "        background-size: auto;\n",
       "    }\n",
       "    .progress-bar-interrupted, .progress-bar-interrupted::-webkit-progress-bar {\n",
       "        background: #F44336;\n",
       "    }\n",
       "</style>\n"
      ],
      "text/plain": [
       "<IPython.core.display.HTML object>"
      ]
     },
     "metadata": {},
     "output_type": "display_data"
    },
    {
     "data": {
      "text/html": [
       "\n",
       "    <div>\n",
       "      <progress value='8000' class='' max='8000' style='width:300px; height:20px; vertical-align: middle;'></progress>\n",
       "      100.00% [8000/8000 00:12<00:00 Sampling 4 chains, 0 divergences]\n",
       "    </div>\n",
       "    "
      ],
      "text/plain": [
       "<IPython.core.display.HTML object>"
      ]
     },
     "metadata": {},
     "output_type": "display_data"
    },
    {
     "name": "stderr",
     "output_type": "stream",
     "text": [
      "Sampling 4 chains for 1_000 tune and 1_000 draw iterations (4_000 + 4_000 draws total) took 12 seconds.\n",
      "Auto-assigning NUTS sampler...\n",
      "Initializing NUTS using jitter+adapt_diag...\n",
      "Multiprocess sampling (4 chains in 4 jobs)\n",
      "NUTS: [sigma, KI_NADH, K_NAD, K_G6P, k_cat]\n"
     ]
    },
    {
     "data": {
      "text/html": [
       "\n",
       "<style>\n",
       "    /* Turns off some styling */\n",
       "    progress {\n",
       "        /* gets rid of default border in Firefox and Opera. */\n",
       "        border: none;\n",
       "        /* Needs to be in here for Safari polyfill so background images work as expected. */\n",
       "        background-size: auto;\n",
       "    }\n",
       "    .progress-bar-interrupted, .progress-bar-interrupted::-webkit-progress-bar {\n",
       "        background: #F44336;\n",
       "    }\n",
       "</style>\n"
      ],
      "text/plain": [
       "<IPython.core.display.HTML object>"
      ]
     },
     "metadata": {},
     "output_type": "display_data"
    },
    {
     "data": {
      "text/html": [
       "\n",
       "    <div>\n",
       "      <progress value='8000' class='' max='8000' style='width:300px; height:20px; vertical-align: middle;'></progress>\n",
       "      100.00% [8000/8000 00:12<00:00 Sampling 4 chains, 2 divergences]\n",
       "    </div>\n",
       "    "
      ],
      "text/plain": [
       "<IPython.core.display.HTML object>"
      ]
     },
     "metadata": {},
     "output_type": "display_data"
    },
    {
     "name": "stderr",
     "output_type": "stream",
     "text": [
      "Sampling 4 chains for 1_000 tune and 1_000 draw iterations (4_000 + 4_000 draws total) took 13 seconds.\n",
      "There was 1 divergence after tuning. Increase `target_accept` or reparameterize.\n",
      "There was 1 divergence after tuning. Increase `target_accept` or reparameterize.\n",
      "The number of effective samples is smaller than 25% for some parameters.\n",
      "Auto-assigning NUTS sampler...\n",
      "Initializing NUTS using jitter+adapt_diag...\n",
      "Multiprocess sampling (4 chains in 4 jobs)\n",
      "NUTS: [sigma, KI_NADH, K_NAD, K_G6P, k_cat]\n"
     ]
    },
    {
     "data": {
      "text/html": [
       "\n",
       "<style>\n",
       "    /* Turns off some styling */\n",
       "    progress {\n",
       "        /* gets rid of default border in Firefox and Opera. */\n",
       "        border: none;\n",
       "        /* Needs to be in here for Safari polyfill so background images work as expected. */\n",
       "        background-size: auto;\n",
       "    }\n",
       "    .progress-bar-interrupted, .progress-bar-interrupted::-webkit-progress-bar {\n",
       "        background: #F44336;\n",
       "    }\n",
       "</style>\n"
      ],
      "text/plain": [
       "<IPython.core.display.HTML object>"
      ]
     },
     "metadata": {},
     "output_type": "display_data"
    },
    {
     "data": {
      "text/html": [
       "\n",
       "    <div>\n",
       "      <progress value='8000' class='' max='8000' style='width:300px; height:20px; vertical-align: middle;'></progress>\n",
       "      100.00% [8000/8000 00:13<00:00 Sampling 4 chains, 0 divergences]\n",
       "    </div>\n",
       "    "
      ],
      "text/plain": [
       "<IPython.core.display.HTML object>"
      ]
     },
     "metadata": {},
     "output_type": "display_data"
    },
    {
     "name": "stderr",
     "output_type": "stream",
     "text": [
      "Sampling 4 chains for 1_000 tune and 1_000 draw iterations (4_000 + 4_000 draws total) took 14 seconds.\n"
     ]
    }
   ],
   "source": [
    "data_vars = ['G6PDH','NADH_obs','NAD_obs','G6P_obs','G6PdL_obs','G6P_in','NAD_in','kf', 'exp_idx']\n",
    "\n",
    "dataset_dict = {\n",
    "    r'$H_0$': (idata_0, compile_model_0),\n",
    "    r'$H_1$': (idata_2, compile_model_2),\n",
    "    r'$H_2$': (idata_3, compile_model_3),\n",
    "    r'$H_3$': (idata_1, compile_model_1),\n",
    "    r'$H_4$': (idata_5, compile_model_5)\n",
    "}\n",
    "\n",
    "model_comparisons = custom_compare(dataset_dict, original_data=data, data_vars=data_vars, sample_kwargs=sample_kwargs)"
   ]
  },
  {
   "cell_type": "code",
   "execution_count": 36,
   "metadata": {},
   "outputs": [
    {
     "data": {
      "text/html": [
       "<div>\n",
       "<style scoped>\n",
       "    .dataframe tbody tr th:only-of-type {\n",
       "        vertical-align: middle;\n",
       "    }\n",
       "\n",
       "    .dataframe tbody tr th {\n",
       "        vertical-align: top;\n",
       "    }\n",
       "\n",
       "    .dataframe thead th {\n",
       "        text-align: right;\n",
       "    }\n",
       "</style>\n",
       "<table border=\"1\" class=\"dataframe\">\n",
       "  <thead>\n",
       "    <tr style=\"text-align: right;\">\n",
       "      <th></th>\n",
       "      <th>rank</th>\n",
       "      <th>loo</th>\n",
       "      <th>p_loo</th>\n",
       "      <th>d_loo</th>\n",
       "      <th>weight</th>\n",
       "      <th>se</th>\n",
       "      <th>dse</th>\n",
       "      <th>warning</th>\n",
       "      <th>loo_scale</th>\n",
       "      <th>n_eloo</th>\n",
       "    </tr>\n",
       "  </thead>\n",
       "  <tbody>\n",
       "    <tr>\n",
       "      <th>$H_4$</th>\n",
       "      <td>0</td>\n",
       "      <td>-254.654118</td>\n",
       "      <td>8.551543</td>\n",
       "      <td>0.000000</td>\n",
       "      <td>5.553750e-01</td>\n",
       "      <td>13.776106</td>\n",
       "      <td>0.000000</td>\n",
       "      <td>False</td>\n",
       "      <td>log</td>\n",
       "      <td>3</td>\n",
       "    </tr>\n",
       "    <tr>\n",
       "      <th>$H_3$</th>\n",
       "      <td>1</td>\n",
       "      <td>-256.644187</td>\n",
       "      <td>9.016305</td>\n",
       "      <td>1.990069</td>\n",
       "      <td>0.000000e+00</td>\n",
       "      <td>13.999396</td>\n",
       "      <td>1.069567</td>\n",
       "      <td>False</td>\n",
       "      <td>log</td>\n",
       "      <td>1</td>\n",
       "    </tr>\n",
       "    <tr>\n",
       "      <th>$H_1$</th>\n",
       "      <td>2</td>\n",
       "      <td>-259.613002</td>\n",
       "      <td>9.287664</td>\n",
       "      <td>4.958884</td>\n",
       "      <td>1.051424e-14</td>\n",
       "      <td>14.596900</td>\n",
       "      <td>3.074485</td>\n",
       "      <td>False</td>\n",
       "      <td>log</td>\n",
       "      <td>3</td>\n",
       "    </tr>\n",
       "    <tr>\n",
       "      <th>$H_2$</th>\n",
       "      <td>3</td>\n",
       "      <td>-264.182229</td>\n",
       "      <td>9.793769</td>\n",
       "      <td>9.528111</td>\n",
       "      <td>0.000000e+00</td>\n",
       "      <td>13.854594</td>\n",
       "      <td>3.573456</td>\n",
       "      <td>False</td>\n",
       "      <td>log</td>\n",
       "      <td>2</td>\n",
       "    </tr>\n",
       "    <tr>\n",
       "      <th>$H_0$</th>\n",
       "      <td>4</td>\n",
       "      <td>-271.882225</td>\n",
       "      <td>9.967537</td>\n",
       "      <td>17.228107</td>\n",
       "      <td>4.446250e-01</td>\n",
       "      <td>23.198761</td>\n",
       "      <td>15.373005</td>\n",
       "      <td>True</td>\n",
       "      <td>log</td>\n",
       "      <td>3</td>\n",
       "    </tr>\n",
       "  </tbody>\n",
       "</table>\n",
       "</div>"
      ],
      "text/plain": [
       "       rank         loo     p_loo      d_loo        weight         se  \\\n",
       "$H_4$     0 -254.654118  8.551543   0.000000  5.553750e-01  13.776106   \n",
       "$H_3$     1 -256.644187  9.016305   1.990069  0.000000e+00  13.999396   \n",
       "$H_1$     2 -259.613002  9.287664   4.958884  1.051424e-14  14.596900   \n",
       "$H_2$     3 -264.182229  9.793769   9.528111  0.000000e+00  13.854594   \n",
       "$H_0$     4 -271.882225  9.967537  17.228107  4.446250e-01  23.198761   \n",
       "\n",
       "             dse  warning loo_scale  n_eloo  \n",
       "$H_4$   0.000000    False       log       3  \n",
       "$H_3$   1.069567    False       log       1  \n",
       "$H_1$   3.074485    False       log       3  \n",
       "$H_2$   3.573456    False       log       2  \n",
       "$H_0$  15.373005     True       log       3  "
      ]
     },
     "execution_count": 36,
     "metadata": {},
     "output_type": "execute_result"
    }
   ],
   "source": [
    "model_comparisons"
   ]
  },
  {
   "cell_type": "code",
   "execution_count": 37,
   "metadata": {},
   "outputs": [],
   "source": [
    "filename = f\"diagnostics/mechanisms_loo_comparison.md\"\n",
    "table_str = model_comparisons.to_markdown()\n",
    "table_str += f'\\nTable: Mechanism comparison diagnostics for PSIS-LOO cross-validation, with exact LOO performed for observations where the PSIS-LOO approximation is invalid.'\n",
    "with open(filename, 'wt') as f:\n",
    "    f.write(table_str)"
   ]
  },
  {
   "cell_type": "markdown",
   "metadata": {},
   "source": [
    "## Creation of figure"
   ]
  },
  {
   "cell_type": "code",
   "execution_count": 39,
   "metadata": {},
   "outputs": [],
   "source": [
    "posterior_0 = idata_0.to_dataframe(['posterior'], include_coords=False)\n",
    "posterior_1 = idata_1.to_dataframe(['posterior'], include_coords=False)\n",
    "posterior_2 = idata_2.to_dataframe(['posterior'], include_coords=False)\n",
    "posterior_3 = idata_3.to_dataframe(['posterior'], include_coords=False)\n",
    "posterior_4 = idata_4.to_dataframe(['posterior'], include_coords=False)\n",
    "posterior_5 = idata_5.to_dataframe(['posterior'], include_coords=False)\n",
    "\n",
    "posteriors = [posterior_0,posterior_2,posterior_3, posterior_1,posterior_5]"
   ]
  },
  {
   "cell_type": "code",
   "execution_count": 40,
   "metadata": {},
   "outputs": [
    {
     "name": "stdout",
     "output_type": "stream",
     "text": [
      "'KI_NADH'\n"
     ]
    },
    {
     "data": {
      "image/png": "[encoded data removed]",
      "text/plain": [
       "<Figure size 504x356.382 with 7 Axes>"
      ]
     },
     "metadata": {},
     "output_type": "display_data"
    }
   ],
   "source": [
    "fig = plt.figure(figsize=(XSIZE, YSIZE), constrained_layout=True)\n",
    "gs0 = fig.add_gridspec(2, 1)\n",
    "\n",
    "gs = gs0[0].subgridspec(1,2)\n",
    "\n",
    "ax_1 = fig.add_subplot(gs[0])\n",
    "\n",
    "sns.scatterplot(ax=ax_1, data=data, x='G6P_in', y='NADH_obs', hue=\"NAD_in\", palette='crest', style='code', markers=True, s=12)\n",
    "ax_1.set_xlim(0, 3200)\n",
    "ax_1.set_ylim(0, 1500)\n",
    "ax_1.set_xlabel(r\"$[$G6P$]_{in}~(\\mu M)$\")\n",
    "ax_1.set_ylabel(r\"$[$NADH$]_{obs}~(\\mu M)$\")\n",
    "ax_1.legend(loc='upper center', fontsize='x-small', ncol=2)\n",
    "\n",
    "ax_3 = fig.add_subplot(gs[1])\n",
    "ax_3.axis('off')\n",
    "\n",
    "ax_3.text(x=-0.15, y=0.9, va='center', ha='left', fontsize=8, bbox=dict(boxstyle='round', fc='white', ec='C0', pad=0.5), \n",
    "            s=r\"$H_0$: $v = \\frac{k_{cat}[E][G6P][NAD]}{K_{G6P}K_{NAD}(1+[G6P]/K_{G6P})(1+[NAD]/K_{NAD})}$\")\n",
    "ax_3.text(x=-0.15, y=0.7, va='center', ha='left', fontsize=8, bbox=dict(boxstyle='round', fc='white', ec='C1', pad=0.5), \n",
    "            s=r\"$H_1$: $v = \\frac{k_{cat}[E][G6P][NAD]}{K_{G6P}K_{NAD}(1+[G6P]/K_{G6P})(1+[NAD]/K_{NAD}+[NADH]/KI_{NADH})}$\")\n",
    "ax_3.text(x=-0.15, y=0.5, va='center', ha='left', fontsize=8, bbox=dict(boxstyle='round', fc='white', ec='C2', pad=0.5), \n",
    "            s=r\"$H_2$: $v = \\frac{k_{cat}[E][G6P][NAD]}{K_{G6P}K_{NAD}(1+[G6P]/K_{G6P}+[NADH]/KI_{NADH})(1+[NAD]/K_{NAD})}$\")\n",
    "ax_3.text(x=-0.15, y=0.3, va='center', ha='left', fontsize=8, bbox=dict(boxstyle='round', fc='white', ec='C3', pad=0.5), \n",
    "            s=r\"$H_3$: $v = \\frac{k_{cat}[E][G6P][NAD]}{K_{G6P}K_{NAD}(1+[G6P]/K_{G6P})(1+[NAD]/K_{NAD})(1+ [NADH]/KI_{NADH})}$\")\n",
    "ax_3.text(x=-0.15, y=0.1, va='center', ha='left', fontsize=8, bbox=dict(boxstyle='round', fc='white', ec='C4', pad=0.5), \n",
    "            s=r\"$H_4$: $v = \\frac{k_{cat}[E][G6P][NAD]}{K_{G6P}K_{NAD}(1+[G6P]/K_{G6P})(1+[NAD]/K_{NAD})(1+ [NADH]/KI_{NADH})^2}$\")\n",
    "\n",
    "ax_1.text(-0.25, 0.95, 'A', transform=ax_1.transAxes, weight=\"bold\", size=10)\n",
    "ax_3.text(-0.3, 0.95, 'B', transform=ax_3.transAxes, weight=\"bold\", size=10)\n",
    "\n",
    "\n",
    "gs = gs0[1].subgridspec(2,3)\n",
    "ax_4 = fig.add_subplot(gs[0,0])\n",
    "ax_5 = fig.add_subplot(gs[1,0])\n",
    "ax_6 = fig.add_subplot(gs[0,1])\n",
    "ax_7 = fig.add_subplot(gs[1,1])\n",
    "\n",
    "ax_4.ticklabel_format(style='sci', scilimits=(-1,1), axis='y')\n",
    "ax_5.ticklabel_format(style='sci', scilimits=(-1,1), axis='y')\n",
    "ax_6.ticklabel_format(style='sci', scilimits=(-1,1), axis='y')\n",
    "ax_7.ticklabel_format(style='sci', scilimits=(-1,1), axis='y')\n",
    "for i, post in enumerate(posteriors):\n",
    "    sns.kdeplot(post['k_cat'], ax=ax_4, fill=True, color=f'C{i}', label=r\"$H_{}$\".format(i))\n",
    "ax_4.set_xlabel(r\"$k_{cat}~(min^{-1})$\")\n",
    "ax_4.set_ylabel(r\"$P(k_{cat})$\")\n",
    "ax_4.set_xlim(0, 300)\n",
    "ax_4.legend(loc='upper right', ncol=2, markerscale=0.5, fontsize='x-small', title_fontsize='small')\n",
    "\n",
    "for i, post in enumerate(posteriors):\n",
    "    sns.kdeplot(post['K_G6P'], ax=ax_5, fill=True, color=f'C{i}')\n",
    "ax_5.set_xlabel(r\"$K_{G6P}~(\\mu M)$\")\n",
    "ax_5.set_ylabel(r\"$P(K_{G6P})$\")\n",
    "ax_5.set_xlim(0, 4000)\n",
    "\n",
    "for i, post in enumerate(posteriors):\n",
    "    sns.kdeplot(post['K_NAD'], ax=ax_6, fill=True, color=f'C{i}')\n",
    "ax_6.set_xlabel(r\"$K_{NAD}~(\\mu M)$\")\n",
    "ax_6.set_ylabel(r\"$P(K_{NAD})$\")\n",
    "ax_6.set_xlim(0, 2000)\n",
    "\n",
    "for i, post in enumerate(posteriors):\n",
    "    try:\n",
    "        sns.kdeplot(post['KI_NADH'], ax=ax_7, fill=True, color=f'C{i}')\n",
    "    except KeyError as e:\n",
    "        print(e)\n",
    "ax_7.set_xlabel(r\"$KI_{NADH}~(\\mu M)$\")\n",
    "ax_7.set_ylabel(r\"$P(KI_{NADH})$\")\n",
    "ax_7.set_xlim(0, 8000)\n",
    "\n",
    "sns.despine()\n",
    "\n",
    "ax_8 = fig.add_subplot(gs[:, 2])\n",
    "\n",
    "# model_comparison = az.compare({\n",
    "#     r'$H_0$': idata_0,\n",
    "#     r'$H_1$': idata_2,\n",
    "#     r'$H_2$': idata_3,\n",
    "#     r'$H_3$': idata_1,\n",
    "#     r'$H_4$': idata_5\n",
    "# }, ic='loo', method='stacking')\n",
    "ax_8 = az.plot_compare(model_comparisons, ax=ax_8, insample_dev=False, plot_standard_error=False)\n",
    "ax_8.scatter(model_comparisons[\"loo\"], ax_8.get_yticks()[::2], c=[ \"C4\", \"C3\", \"C1\",\"C2\",\"C0\"], s=64, ec='black', zorder=10)\n",
    "ax_8.set_xlabel(\"Log-score\")\n",
    "ax_8.set_xlim(-280, -250)\n",
    "ax_4.text(-0.25, 1.0, 'C', transform=ax_4.transAxes, weight=\"bold\", size=10)\n",
    "ax_8.text(-0.15, 1.0, 'D', transform=ax_8.transAxes, weight=\"bold\", size=10)\n",
    "\n",
    "savefig('fig5_mechanisms')\n",
    "plt.show()"
   ]
  },
  {
   "cell_type": "code",
   "execution_count": 41,
   "metadata": {},
   "outputs": [
    {
     "data": {
      "image/png": "[encoded data removed]",
      "text/plain": [
       "<Figure size 432x216 with 1 Axes>"
      ]
     },
     "metadata": {},
     "output_type": "display_data"
    }
   ],
   "source": [
    "fig, ax = plt.subplots(figsize=(6,3))\n",
    "\n",
    "for i, post in enumerate(posteriors):\n",
    "    try:\n",
    "        sns.kdeplot(post['sigma[0]'], ax=ax, fill=True, color=f'C{i}', alpha=0.4)\n",
    "        sns.kdeplot(post['sigma[1]'], ax=ax, fill=True, color=f'C{i}', alpha=0.6)\n",
    "        # sns.kdeplot(post['sigma[2]'], ax=ax, fill=True, color=f'C{i}', alpha=0.8)\n",
    "    except KeyError as e:\n",
    "        print(e)\n",
    "\n",
    "ax.set_xlim(0)\n",
    "plt.show()"
   ]
  }
 ],
 "metadata": {
  "interpreter": {
   "hash": "244747c6fd72588afcde0162c42b84020c0854932d4821074777ac1fff947003"
  },
  "kernelspec": {
   "display_name": "Python 3 (ipykernel)",
   "language": "python",
   "name": "python3"
  },
  "language_info": {
   "codemirror_mode": {
    "name": "ipython",
    "version": 3
   },
   "file_extension": ".py",
   "mimetype": "text/x-python",
   "name": "python",
   "nbconvert_exporter": "python",
   "pygments_lexer": "ipython3",
   "version": "3.9.5"
  }
 },
 "nbformat": 4,
 "nbformat_minor": 2
}

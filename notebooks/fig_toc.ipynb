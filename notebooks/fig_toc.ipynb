{
 "cells": [
  {
   "cell_type": "code",
   "execution_count": 1,
   "metadata": {},
   "outputs": [
    {
     "name": "stdout",
     "output_type": "stream",
     "text": [
      "Author: Mathieu Baltussen\n",
      "\n",
      "Last updated: 2022-04-11 14:11:42\n",
      "\n",
      "Python implementation: CPython\n",
      "Python version       : 3.9.5\n",
      "IPython version      : 8.0.1\n",
      "\n",
      "matplotlib: 3.4.2\n",
      "pymc3     : 3.11.2\n",
      "pandas    : 1.2.4\n",
      "networkx  : 2.5.1\n",
      "numpy     : 1.22.2\n",
      "arviz     : 0.11.2\n",
      "seaborn   : 0.11.1\n",
      "theano    : 1.1.2\n",
      "scipy     : 1.6.2\n",
      "\n"
     ]
    }
   ],
   "source": [
    "import numpy as np\n",
    "import pandas as pd\n",
    "import scipy.stats as stats\n",
    "import scipy.optimize as optimize\n",
    "import pymc3 as pm\n",
    "import arviz as az\n",
    "import theano.tensor as tt\n",
    "\n",
    "import networkx as nx\n",
    "\n",
    "import matplotlib.pyplot as plt\n",
    "import matplotlib.gridspec as gridspec\n",
    "import seaborn as sns; sns.set_theme(style='ticks', context='paper', font_scale=0.8);\n",
    "\n",
    "%reload_ext watermark\n",
    "%watermark -a \"Mathieu Baltussen\" -d -t -u -v -iv"
   ]
  },
  {
   "cell_type": "code",
   "execution_count": 2,
   "metadata": {},
   "outputs": [],
   "source": [
    "data = pd.read_csv(\"../data/CEKS33.csv\")\n",
    "kf = 0.125  # minute^-1\n",
    "E = 0.012\n",
    "data = data.assign(kf=kf, Tr=E)\n",
    "data_1 = data[data.AAA == 0]\n",
    "data_2 = data[data.AAA != 0]\n"
   ]
  },
  {
   "cell_type": "code",
   "execution_count": 3,
   "metadata": {},
   "outputs": [
    {
     "name": "stderr",
     "output_type": "stream",
     "text": [
      "Multiprocess sampling (4 chains in 4 jobs)\n",
      "NUTS: [sigma, K_I, K_M, k_cat]\n"
     ]
    },
    {
     "data": {
      "text/html": [
       "\n",
       "<style>\n",
       "    /* Turns off some styling */\n",
       "    progress {\n",
       "        /* gets rid of default border in Firefox and Opera. */\n",
       "        border: none;\n",
       "        /* Needs to be in here for Safari polyfill so background images work as expected. */\n",
       "        background-size: auto;\n",
       "    }\n",
       "    .progress-bar-interrupted, .progress-bar-interrupted::-webkit-progress-bar {\n",
       "        background: #F44336;\n",
       "    }\n",
       "</style>\n"
      ],
      "text/plain": [
       "<IPython.core.display.HTML object>"
      ]
     },
     "metadata": {},
     "output_type": "display_data"
    },
    {
     "data": {
      "text/html": [
       "\n",
       "    <div>\n",
       "      <progress value='8000' class='' max='8000' style='width:300px; height:20px; vertical-align: middle;'></progress>\n",
       "      100.00% [8000/8000 00:04<00:00 Sampling 4 chains, 0 divergences]\n",
       "    </div>\n",
       "    "
      ],
      "text/plain": [
       "<IPython.core.display.HTML object>"
      ]
     },
     "metadata": {},
     "output_type": "display_data"
    },
    {
     "name": "stderr",
     "output_type": "stream",
     "text": [
      "Sampling 4 chains for 1_000 tune and 1_000 draw iterations (4_000 + 4_000 draws total) took 5 seconds.\n",
      "The number of effective samples is smaller than 25% for some parameters.\n",
      "Multiprocess sampling (4 chains in 4 jobs)\n",
      "NUTS: [sigma, K_I, K_M, k_cat]\n"
     ]
    },
    {
     "data": {
      "text/html": [
       "\n",
       "<style>\n",
       "    /* Turns off some styling */\n",
       "    progress {\n",
       "        /* gets rid of default border in Firefox and Opera. */\n",
       "        border: none;\n",
       "        /* Needs to be in here for Safari polyfill so background images work as expected. */\n",
       "        background-size: auto;\n",
       "    }\n",
       "    .progress-bar-interrupted, .progress-bar-interrupted::-webkit-progress-bar {\n",
       "        background: #F44336;\n",
       "    }\n",
       "</style>\n"
      ],
      "text/plain": [
       "<IPython.core.display.HTML object>"
      ]
     },
     "metadata": {},
     "output_type": "display_data"
    },
    {
     "data": {
      "text/html": [
       "\n",
       "    <div>\n",
       "      <progress value='8000' class='' max='8000' style='width:300px; height:20px; vertical-align: middle;'></progress>\n",
       "      100.00% [8000/8000 00:12<00:00 Sampling 4 chains, 2 divergences]\n",
       "    </div>\n",
       "    "
      ],
      "text/plain": [
       "<IPython.core.display.HTML object>"
      ]
     },
     "metadata": {},
     "output_type": "display_data"
    },
    {
     "name": "stderr",
     "output_type": "stream",
     "text": [
      "Sampling 4 chains for 1_000 tune and 1_000 draw iterations (4_000 + 4_000 draws total) took 13 seconds.\n",
      "There was 1 divergence after tuning. Increase `target_accept` or reparameterize.\n",
      "There was 1 divergence after tuning. Increase `target_accept` or reparameterize.\n",
      "The number of effective samples is smaller than 25% for some parameters.\n",
      "Multiprocess sampling (4 chains in 4 jobs)\n",
      "NUTS: [sigma, K_I, K_M, k_cat]\n"
     ]
    },
    {
     "data": {
      "text/html": [
       "\n",
       "<style>\n",
       "    /* Turns off some styling */\n",
       "    progress {\n",
       "        /* gets rid of default border in Firefox and Opera. */\n",
       "        border: none;\n",
       "        /* Needs to be in here for Safari polyfill so background images work as expected. */\n",
       "        background-size: auto;\n",
       "    }\n",
       "    .progress-bar-interrupted, .progress-bar-interrupted::-webkit-progress-bar {\n",
       "        background: #F44336;\n",
       "    }\n",
       "</style>\n"
      ],
      "text/plain": [
       "<IPython.core.display.HTML object>"
      ]
     },
     "metadata": {},
     "output_type": "display_data"
    },
    {
     "data": {
      "text/html": [
       "\n",
       "    <div>\n",
       "      <progress value='8000' class='' max='8000' style='width:300px; height:20px; vertical-align: middle;'></progress>\n",
       "      100.00% [8000/8000 00:03<00:00 Sampling 4 chains, 0 divergences]\n",
       "    </div>\n",
       "    "
      ],
      "text/plain": [
       "<IPython.core.display.HTML object>"
      ]
     },
     "metadata": {},
     "output_type": "display_data"
    },
    {
     "name": "stderr",
     "output_type": "stream",
     "text": [
      "Sampling 4 chains for 1_000 tune and 1_000 draw iterations (4_000 + 4_000 draws total) took 4 seconds.\n"
     ]
    }
   ],
   "source": [
    "with pm.Model() as model_1:\n",
    "    k_cat = pm.Uniform(\"k_cat\", 0, 500)\n",
    "    K_M = pm.Uniform(\"K_M\", 0, 500)\n",
    "    K_I = pm.Uniform(\"K_I\", 1000, 10000)\n",
    "    sigma = pm.Exponential(\"sigma\", 10)\n",
    "\n",
    "    S_in = data_1[\"R\"].values\n",
    "    I_in = data_1[\"AAA\"].values\n",
    "    P_obs = data_1[\"AMC\"].values\n",
    "    S_obs = (\n",
    "        S_in - P_obs\n",
    "    )  # Substrate concentration inside reactor determined via stoichiometric conservation at steady-state\n",
    "    E = data_1[\"Tr\"].values\n",
    "    kf = data_1[\"kf\"].values\n",
    "\n",
    "    # Inference of probabilistic model at steady-state conditions\n",
    "    P = pm.Normal(\n",
    "        \"obs\",\n",
    "        mu=k_cat * E * S_obs / (kf * (K_M + S_obs * (1 + I_in / K_I))),\n",
    "        sigma=sigma,\n",
    "        observed=P_obs,\n",
    "    )\n",
    "    idata_1 = pm.sample(\n",
    "        1000,\n",
    "        tune=1000,\n",
    "        cores=4,\n",
    "        step=pm.NUTS(target_accept=0.95),\n",
    "        return_inferencedata=True,\n",
    "    )\n",
    "\n",
    "with pm.Model() as model_2:\n",
    "    k_cat = pm.Uniform(\"k_cat\", 0, 500)\n",
    "    K_M = pm.Uniform(\"K_M\", 0, 500)\n",
    "    K_I = pm.Uniform(\"K_I\", 1000, 10000)\n",
    "    sigma = pm.Exponential(\"sigma\", 10)\n",
    "\n",
    "    S_in = data_2[\"R\"].values\n",
    "    I_in = data_2[\"AAA\"].values\n",
    "    P_obs = data_2[\"AMC\"].values\n",
    "    S_obs = (\n",
    "        S_in - P_obs\n",
    "    )  # Substrate concentration inside reactor determined via stoichiometric conservation at steady-state\n",
    "    E = data_2[\"Tr\"].values\n",
    "    kf = data_2[\"kf\"].values\n",
    "\n",
    "    # Inference of probabilistic model at steady-state conditions\n",
    "    P = pm.Normal(\n",
    "        \"obs\",\n",
    "        mu=k_cat * E * S_obs / (kf * (K_M + S_obs * (1 + I_in / K_I))),\n",
    "        sigma=sigma,\n",
    "        observed=P_obs,\n",
    "    )\n",
    "    idata_2 = pm.sample(\n",
    "        1000,\n",
    "        tune=1000,\n",
    "        cores=4,\n",
    "        step=pm.NUTS(target_accept=0.95),\n",
    "        return_inferencedata=True,\n",
    "    )\n",
    "\n",
    "with pm.Model() as model:\n",
    "    k_cat = pm.Uniform(\"k_cat\", 0, 500)\n",
    "    K_M = pm.Uniform(\"K_M\", 0, 500)\n",
    "    K_I = pm.Uniform(\"K_I\", 1000, 10000)\n",
    "    sigma = pm.Exponential(\"sigma\", 10)\n",
    "\n",
    "    S_in = data[\"R\"].values\n",
    "    I_in = data[\"AAA\"].values\n",
    "    P_obs = data[\"AMC\"].values\n",
    "    S_obs = (\n",
    "        S_in - P_obs\n",
    "    )  # Substrate concentration inside reactor determined via stoichiometric conservation at steady-state\n",
    "    E = data[\"Tr\"].values\n",
    "    kf = data[\"kf\"].values\n",
    "\n",
    "    # Inference of probabilistic model at steady-state conditions\n",
    "    P = pm.Normal(\n",
    "        \"obs\",\n",
    "        mu=k_cat * E * S_obs / (kf * (K_M + S_obs * (1 + I_in / K_I))),\n",
    "        sigma=sigma,\n",
    "        observed=P_obs,\n",
    "    )\n",
    "    idata = pm.sample(\n",
    "        1000,\n",
    "        tune=1000,\n",
    "        cores=4,\n",
    "        step=pm.NUTS(target_accept=0.95),\n",
    "        return_inferencedata=True,\n",
    "    )\n"
   ]
  },
  {
   "cell_type": "code",
   "execution_count": 4,
   "metadata": {},
   "outputs": [
    {
     "data": {
      "text/html": [
       "\n",
       "<style>\n",
       "    /* Turns off some styling */\n",
       "    progress {\n",
       "        /* gets rid of default border in Firefox and Opera. */\n",
       "        border: none;\n",
       "        /* Needs to be in here for Safari polyfill so background images work as expected. */\n",
       "        background-size: auto;\n",
       "    }\n",
       "    .progress-bar-interrupted, .progress-bar-interrupted::-webkit-progress-bar {\n",
       "        background: #F44336;\n",
       "    }\n",
       "</style>\n"
      ],
      "text/plain": [
       "<IPython.core.display.HTML object>"
      ]
     },
     "metadata": {},
     "output_type": "display_data"
    },
    {
     "data": {
      "text/html": [
       "\n",
       "    <div>\n",
       "      <progress value='4000' class='' max='4000' style='width:300px; height:20px; vertical-align: middle;'></progress>\n",
       "      100.00% [4000/4000 00:06<00:00]\n",
       "    </div>\n",
       "    "
      ],
      "text/plain": [
       "<IPython.core.display.HTML object>"
      ]
     },
     "metadata": {},
     "output_type": "display_data"
    },
    {
     "data": {
      "text/html": [
       "\n",
       "<style>\n",
       "    /* Turns off some styling */\n",
       "    progress {\n",
       "        /* gets rid of default border in Firefox and Opera. */\n",
       "        border: none;\n",
       "        /* Needs to be in here for Safari polyfill so background images work as expected. */\n",
       "        background-size: auto;\n",
       "    }\n",
       "    .progress-bar-interrupted, .progress-bar-interrupted::-webkit-progress-bar {\n",
       "        background: #F44336;\n",
       "    }\n",
       "</style>\n"
      ],
      "text/plain": [
       "<IPython.core.display.HTML object>"
      ]
     },
     "metadata": {},
     "output_type": "display_data"
    },
    {
     "data": {
      "text/html": [
       "\n",
       "    <div>\n",
       "      <progress value='4000' class='' max='4000' style='width:300px; height:20px; vertical-align: middle;'></progress>\n",
       "      100.00% [4000/4000 00:06<00:00]\n",
       "    </div>\n",
       "    "
      ],
      "text/plain": [
       "<IPython.core.display.HTML object>"
      ]
     },
     "metadata": {},
     "output_type": "display_data"
    },
    {
     "data": {
      "text/html": [
       "\n",
       "<style>\n",
       "    /* Turns off some styling */\n",
       "    progress {\n",
       "        /* gets rid of default border in Firefox and Opera. */\n",
       "        border: none;\n",
       "        /* Needs to be in here for Safari polyfill so background images work as expected. */\n",
       "        background-size: auto;\n",
       "    }\n",
       "    .progress-bar-interrupted, .progress-bar-interrupted::-webkit-progress-bar {\n",
       "        background: #F44336;\n",
       "    }\n",
       "</style>\n"
      ],
      "text/plain": [
       "<IPython.core.display.HTML object>"
      ]
     },
     "metadata": {},
     "output_type": "display_data"
    },
    {
     "data": {
      "text/html": [
       "\n",
       "    <div>\n",
       "      <progress value='4000' class='' max='4000' style='width:300px; height:20px; vertical-align: middle;'></progress>\n",
       "      100.00% [4000/4000 00:06<00:00]\n",
       "    </div>\n",
       "    "
      ],
      "text/plain": [
       "<IPython.core.display.HTML object>"
      ]
     },
     "metadata": {},
     "output_type": "display_data"
    }
   ],
   "source": [
    "posterior_df_1 = idata_1.to_dataframe([\"posterior\"])\n",
    "posterior_df_2 = idata_2.to_dataframe([\"posterior\"])\n",
    "posterior_df = idata.to_dataframe([\"posterior\"])\n",
    "\n",
    "with model_1:\n",
    "    post_pred_1 = pm.sample_posterior_predictive(\n",
    "        idata_1, var_names=[\"obs\", \"k_cat\", \"K_M\", \"K_I\", \"sigma\"]\n",
    "    )\n",
    "posterior_df_1 = pd.DataFrame(\n",
    "    {\n",
    "        \"k_cat\": post_pred_1[\"k_cat\"],\n",
    "        \"K_M\": post_pred_1[\"K_M\"],\n",
    "        \"K_I\": post_pred_1[\"K_I\"],\n",
    "        \"sigma\": post_pred_1[\"sigma\"],\n",
    "    }\n",
    ")\n",
    "with model_2:\n",
    "    post_pred_2 = pm.sample_posterior_predictive(\n",
    "        idata_2, var_names=[\"obs\", \"k_cat\", \"K_M\", \"K_I\", \"sigma\"]\n",
    "    )\n",
    "posterior_df_2 = pd.DataFrame(\n",
    "    {\n",
    "        \"k_cat\": post_pred_2[\"k_cat\"],\n",
    "        \"K_M\": post_pred_2[\"K_M\"],\n",
    "        \"K_I\": post_pred_2[\"K_I\"],\n",
    "        \"sigma\": post_pred_2[\"sigma\"],\n",
    "    }\n",
    ")\n",
    "with model:\n",
    "    post_pred = pm.sample_posterior_predictive(\n",
    "        idata, var_names=[\"obs\", \"k_cat\", \"K_M\", \"K_I\", \"sigma\"]\n",
    "    )\n",
    "posterior_df = pd.DataFrame(\n",
    "    {\n",
    "        \"k_cat\": post_pred[\"k_cat\"],\n",
    "        \"K_M\": post_pred[\"K_M\"],\n",
    "        \"K_I\": post_pred[\"K_I\"],\n",
    "        \"sigma\": post_pred[\"sigma\"],\n",
    "    }\n",
    ")\n"
   ]
  },
  {
   "cell_type": "code",
   "execution_count": 5,
   "metadata": {},
   "outputs": [
    {
     "ename": "NameError",
     "evalue": "name 'model_graph' is not defined",
     "output_type": "error",
     "traceback": [
      "\u001b[0;31m---------------------------------------------------------------------------\u001b[0m",
      "\u001b[0;31mNameError\u001b[0m                                 Traceback (most recent call last)",
      "Input \u001b[0;32mIn [5]\u001b[0m, in \u001b[0;36m<module>\u001b[0;34m\u001b[0m\n\u001b[0;32m----> 1\u001b[0m left \u001b[38;5;241m=\u001b[39m nx\u001b[38;5;241m.\u001b[39mbipartite\u001b[38;5;241m.\u001b[39msets(\u001b[43mmodel_graph\u001b[49m)[\u001b[38;5;241m0\u001b[39m]\n\u001b[1;32m      2\u001b[0m pos \u001b[38;5;241m=\u001b[39m nx\u001b[38;5;241m.\u001b[39mbipartite_layout(model_graph, \u001b[38;5;28mlist\u001b[39m(left)[::\u001b[38;5;241m-\u001b[39m\u001b[38;5;241m1\u001b[39m], scale\u001b[38;5;241m=\u001b[39m\u001b[38;5;241m0.8\u001b[39m)\n\u001b[1;32m      3\u001b[0m \u001b[38;5;28mprint\u001b[39m(pos)\n",
      "\u001b[0;31mNameError\u001b[0m: name 'model_graph' is not defined"
     ]
    }
   ],
   "source": [
    "\n",
    "\n",
    "left = nx.bipartite.sets(model_graph)[0]\n",
    "pos = nx.bipartite_layout(model_graph, list(left)[::-1], scale=0.8)\n",
    "print(pos)\n",
    "\n",
    "pos = {\n",
    "    \"$\\\\mathcal{L}_{2}$\": np.array([0.25, 0.25]),\n",
    "    \"$\\\\mathcal{L}_{1}$\": np.array([0.25, 0.75]),\n",
    "    \"$k_{cat}$\": np.array([0.75, 0.7]),\n",
    "    \"$K_M$\": np.array([0.75, 0.5]),\n",
    "    \"$K_I$\": np.array([0.75, 0.2]),\n",
    "}\n",
    "\n",
    "fig, ax = plt.subplots(constrained_layout=True)\n",
    "\n",
    "with sns.color_palette(\"deep\"):\n",
    "    nx.draw(\n",
    "        model_graph,\n",
    "        pos=pos,\n",
    "        ax=ax,\n",
    "        with_labels=True,\n",
    "        node_size=2000,\n",
    "        node_color=[\"C0\", \"lightgrey\", \"lightgrey\", \"C3\", \"lightgrey\"],\n",
    "        width=2,\n",
    "        edgecolors=\"black\",\n",
    "        arrowstyle=\"-|>\",\n",
    "        arrowsize=6,\n",
    "        connectionstyle=\"arc,armB=-15\",\n",
    "    )\n"
   ]
  },
  {
   "cell_type": "code",
   "execution_count": 6,
   "metadata": {},
   "outputs": [],
   "source": [
    "def plot_ridgeplots(fig, gs, n_plots, data, start_color=0):\n",
    "    pal = sns.cubehelix_palette(n_plots, start=start_color, rot=-.2, dark=0.4, light=0.9)\n",
    "    axes = [fig.add_subplot(gs[i,0]) for i in range(n_plots)]\n",
    "\n",
    "    for i in range(n_plots):\n",
    "        sns.kdeplot(data[i], ax=axes[i], fill=True, clip_on=True, alpha=0.6, color=pal[i])\n",
    "        sns.kdeplot(data[i], ax=axes[i], fill=False, clip_on=True, color=\"black\", lw=.2)\n",
    "\n",
    "    # y_max = max(max(ax.get_yticks()) for ax in axes)*1.1\n",
    "    x_min, x_max = min(axes[-1].get_xticks()),  max(axes[-1].get_xticks())\n",
    "    for i, ax in enumerate(axes):\n",
    "        # ax.set_ylim(0, y_max)\n",
    "        ymax = max(ax.get_yticks())*(n_plots - i)\n",
    "        ax.set_ylim(0)\n",
    "        ax.set_xlim(x_min, x_max)\n",
    "        ax.patch.set_alpha(0)\n",
    "\n",
    "    for ax in axes[:-1]:\n",
    "        ax.axis(\"off\")\n",
    "        sns.despine(ax=ax, left=True, bottom=True)\n",
    "\n",
    "    axes[-1].set_yticks([])\n",
    "    axes[-1].set_ylabel(\"\")\n",
    "    sns.despine(ax=axes[-1], left=True)\n",
    "\n",
    "    return axes, pal"
   ]
  },
  {
   "cell_type": "code",
   "execution_count": 7,
   "metadata": {},
   "outputs": [
    {
     "data": {
      "text/html": [
       "<svg  width=\"165\" height=\"55\"><rect x=\"0\" y=\"0\" width=\"55\" height=\"55\" style=\"fill:#e0e6f7;stroke-width:2;stroke:rgb(255,255,255)\"/><rect x=\"55\" y=\"0\" width=\"55\" height=\"55\" style=\"fill:#a39fd4;stroke-width:2;stroke:rgb(255,255,255)\"/><rect x=\"110\" y=\"0\" width=\"55\" height=\"55\" style=\"fill:#715894;stroke-width:2;stroke:rgb(255,255,255)\"/></svg>"
      ],
      "text/plain": [
       "[[0.8785578419340125, 0.9014144832192498, 0.9687173115546507],\n",
       " [0.6406706030956623, 0.622799643084166, 0.8302502287527784],\n",
       " [0.4428111826648146, 0.3448837880001888, 0.5788669999260483]]"
      ]
     },
     "execution_count": 7,
     "metadata": {},
     "output_type": "execute_result"
    }
   ],
   "source": [
    "palette = sns.cubehelix_palette(3, start=0.4, rot=-.2, dark=0.4, light=0.9)\n",
    "palette"
   ]
  },
  {
   "cell_type": "code",
   "execution_count": 8,
   "metadata": {},
   "outputs": [
    {
     "name": "stderr",
     "output_type": "stream",
     "text": [
      "/home/mathieu/anaconda3/envs/phd/lib/python3.9/site-packages/matplotlib/cbook/__init__.py:1061: VisibleDeprecationWarning: Creating an ndarray from ragged nested sequences (which is a list-or-tuple of lists-or-tuples-or ndarrays with different lengths or shapes) is deprecated. If you meant to do this, you must specify 'dtype=object' when creating the ndarray.\n",
      "  x = np.asanyarray(x)\n",
      "/home/mathieu/anaconda3/envs/phd/lib/python3.9/site-packages/IPython/core/pylabtools.py:151: UserWarning: constrained_layout not applied because axes sizes collapsed to zero.  Try making figure larger or axes decorations smaller.\n",
      "  fig.canvas.print_figure(bytes_io, **kw)\n"
     ]
    },
    {
     "data": {
      "image/png": "[encoded data removed]",
      "text/plain": [
       "<Figure size 234x126 with 4 Axes>"
      ]
     },
     "metadata": {},
     "output_type": "display_data"
    }
   ],
   "source": [
    "model_graph = nx.DiGraph()\n",
    "model_graph.add_edge(r\"$\\mathcal{L}_{1}$\", r\"$k_{cat}$\")\n",
    "model_graph.add_edge(r\"$\\mathcal{L}_{1}$\", r\"$K_M$\")\n",
    "model_graph.add_edge(r\"$\\mathcal{L}_{2}$\", r\"$k_{cat}$\")\n",
    "model_graph.add_edge(r\"$\\mathcal{L}_{2}$\", r\"$K_M$\")\n",
    "model_graph.add_edge(r\"$\\mathcal{L}_{2}$\", r\"$K_I$\")\n",
    "pos = {\n",
    "    \"$\\\\mathcal{L}_{2}$\": np.array([0.33, 0.425]),\n",
    "    \"$\\\\mathcal{L}_{1}$\": np.array([0.33, 0.575]),\n",
    "    \"$k_{cat}$\": np.array([0.66, 0.65]),\n",
    "    \"$K_M$\": np.array([0.66, 0.5]),\n",
    "    \"$K_I$\": np.array([0.66, 0.35]),\n",
    "}\n",
    "\n",
    "\n",
    "fig = plt.figure(figsize=(3.25, 1.75), constrained_layout=True)\n",
    "\n",
    "gs = fig.add_gridspec(4, 3, wspace=0.2, hspace=0.0)\n",
    "\n",
    "# gs.subplots()\n",
    "\n",
    "\n",
    "ax_1 = fig.add_subplot(gs[1:3, 0])\n",
    "ax_1.scatter(data_1.R, data_1.AMC, ec=\"black\", fc=\"C0\", label=r\"[I]=0 $\\mu M$\", s=32)\n",
    "ax_1.scatter(data_2.R, data_2.AMC, ec=\"black\", fc=\"C3\", label=r\"[I]=1500 $\\mu M$\", s=32)\n",
    "ax_1.plot(data_1.R, data_1.AMC, \"--\", c=\"C0\")\n",
    "ax_1.plot(data_2.R, data_2.AMC, \"--\", c=\"C3\")\n",
    "# ax_1.legend()\n",
    "ax_1.set_xlim(0, 600)\n",
    "ax_1.set_ylim(0, 9)\n",
    "# ax_1.text(-0.18, 0.95, 'A', transform=ax_1.transAxes, weight=\"bold\", size=10)\n",
    "ax_1.set_xlabel(r\"$[$S$]_{in}$\")\n",
    "ax_1.set_ylabel(r\"$[$P$]_{out}$\")\n",
    "ax_1.set_xticks([])\n",
    "ax_1.set_yticks([])\n",
    "sns.despine(ax=ax_1)\n",
    "ax_1.margins(y=-0.3)\n",
    "\n",
    "ax_2 = fig.add_subplot(gs[:, 1])\n",
    "\n",
    "with sns.color_palette(\"deep\"):\n",
    "    nx.draw(\n",
    "        model_graph,\n",
    "        pos=pos,\n",
    "        ax=ax_2,\n",
    "        with_labels=True,\n",
    "        node_size=400,\n",
    "        node_color=[\"C0\", palette[1], palette[1], \"C3\", palette[1]],\n",
    "        width=1,\n",
    "        edgecolors=\"black\",\n",
    "        arrowstyle=\"-|>\",\n",
    "        arrowsize=9,\n",
    "        connectionstyle=\"arc\",\n",
    "        font_size=10\n",
    "    )\n",
    "    ax_2.margins(x=0.25, y=0.1)\n",
    "\n",
    "    ax_3 = fig.add_subplot(gs[0:2, 2:])\n",
    "\n",
    "    sns.kdeplot(posterior_df_1[\"k_cat\"], ax=ax_3, fill=True, color=\"C0\")\n",
    "    sns.kdeplot(posterior_df_2[\"k_cat\"], ax=ax_3, fill=True, color=\"C3\")\n",
    "    sns.kdeplot(posterior_df[\"k_cat\"], ax=ax_3, fill=True, color=palette[2], alpha=0.5)\n",
    "    sns.despine(ax=ax_3)\n",
    "    ax_3.set_xlim(75, 120)\n",
    "    ax_3.set_ylabel(r\"$P(k_{cat}|\\mathbf{y})$\")\n",
    "    ax_3.set_xlabel(r\"$k_{cat}$\")\n",
    "    ax_3.set_xticks([])\n",
    "    ax_3.set_yticks([])\n",
    "\n",
    "\n",
    "    # gs_rp = gs[2:, 2].subgridspec(3,1, hspace=-0.1)\n",
    "    # axes, pal = plot_ridgeplots(fig, gs_rp, 3, [\n",
    "    #                                             posterior_df_1['K_I'], \n",
    "    #                                             posterior_df_2['K_I'],\n",
    "    #                                             posterior_df['K_I']], \n",
    "    #                             start_color=0.4\n",
    "    #                             )\n",
    "\n",
    "    ax_4 = fig.add_subplot(gs[2:4, 2])\n",
    "\n",
    "    sns.kdeplot(posterior_df_1[\"K_I\"], ax=ax_4, fill=True, color=\"C0\")\n",
    "    sns.kdeplot(posterior_df_2[\"K_I\"], ax=ax_4, fill=True, color=\"C3\")\n",
    "    sns.kdeplot(posterior_df[\"K_I\"], ax=ax_4, fill=True, color=palette[2], alpha=0.5)\n",
    "    sns.despine(ax=ax_4)\n",
    "    ax_4.set_xlim(0, 8000)\n",
    "    ax_4.set_ylabel(r\"$P(K_{I}|\\mathbf{y})$\")\n",
    "    ax_4.set_xlabel(r\"$K_{I}$\")\n",
    "    ax_4.set_xticks([])\n",
    "    ax_4.set_yticks([])\n",
    "\n",
    "# ax_0 = fig.add_subplot(gs[0, 0])\n",
    "# sns.despine(ax=ax_0, left=True, bottom=True)\n",
    "ax_1.text(0.5, 2.25, r\"$\\mathbf{y}$\", transform=ax_1.transAxes, ha='center', fontsize=10, va='center', weight='bold', in_layout=False)\n",
    "ax_2.text(0.5, 1.05, r\"$\\mathcal{L}(\\mathbf{y}|\\theta)$\", transform=ax_2.transAxes, fontsize=10, ha='center', va='center', weight='bold', in_layout=False)\n",
    "ax_3.margins(y=0.2)\n",
    "ax_3.text(0.5, 1.13, r\"$P(\\theta|\\mathbf{y})$\", transform=ax_3.transAxes, ha='center', fontsize=10,  va='center', weight='bold', in_layout=True)\n",
    "\n",
    "# plt.savefig(\"../figures/fig_toc.svg\", dpi=300)\n",
    "plt.show()\n"
   ]
  },
  {
   "cell_type": "code",
   "execution_count": null,
   "metadata": {},
   "outputs": [],
   "source": []
  }
 ],
 "metadata": {
  "interpreter": {
   "hash": "244747c6fd72588afcde0162c42b84020c0854932d4821074777ac1fff947003"
  },
  "kernelspec": {
   "display_name": "Python 3 (ipykernel)",
   "language": "python",
   "name": "python3"
  },
  "language_info": {
   "codemirror_mode": {
    "name": "ipython",
    "version": 3
   },
   "file_extension": ".py",
   "mimetype": "text/x-python",
   "name": "python",
   "nbconvert_exporter": "python",
   "pygments_lexer": "ipython3",
   "version": "3.9.5"
  }
 },
 "nbformat": 4,
 "nbformat_minor": 2
}

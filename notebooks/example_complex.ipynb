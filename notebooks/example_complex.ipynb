{
 "cells": [
  {
   "cell_type": "markdown",
   "metadata": {},
   "source": [
    "# Bayesian Inference of Enzyme Kinetics - Complex example\n",
    "\n",
    "This notebook will show how measurements on enzymatic systems with partial observability can be used to perform Bayesian Inference in order to estimate kinetic parameters.\n",
    "This requires the usage of a custom Theano operator that implements the numeric calculation of steady-state concentrations directly from the system of ODE's, alongside with gradient information in order to use Hamiltonian Monte Carlo sampling.\n",
    "\n",
    "This notebook uses the same dataset of R-AMC cleavage to AMC by the enzyme Trypsin, and inhibited by AAA-AMC, but implement the steady-state condition via a Theano operator instead of explicitly.\n",
    "\n",
    "\n"
   ]
  },
  {
   "cell_type": "code",
   "execution_count": 1,
   "metadata": {},
   "outputs": [
    {
     "name": "stdout",
     "output_type": "stream",
     "text": [
      "Author: Mathieu Baltussen\n",
      "\n",
      "Last updated: 2022-04-11 14:28:39\n",
      "\n",
      "Python implementation: CPython\n",
      "Python version       : 3.9.5\n",
      "IPython version      : 8.2.0\n",
      "\n",
      "numpy     : 1.20.3\n",
      "arviz     : 0.11.4\n",
      "theano    : 1.1.2\n",
      "matplotlib: 3.4.3\n",
      "sympy     : 1.8\n",
      "bayern    : 0.1.0\n",
      "scipy     : 1.6.3\n",
      "pandas    : 1.2.4\n",
      "seaborn   : 0.11.2\n",
      "pymc3     : 3.11.4\n",
      "\n"
     ]
    }
   ],
   "source": [
    "# Standard scientific imports\n",
    "import numpy as np\n",
    "import pandas as pd\n",
    "import scipy.stats as stats\n",
    "import scipy.optimize as optimize\n",
    "import sympy as sp\n",
    "\n",
    "# Bayesian inference imports\n",
    "import pymc3 as pm\n",
    "import arviz as az\n",
    "import theano.tensor as tt\n",
    "\n",
    "# Visualization imports\n",
    "import matplotlib.pyplot as plt\n",
    "import matplotlib.gridspec as gridspec\n",
    "import seaborn as sns; sns.set_theme(style='ticks', context='notebook', font_scale=0.8);\n",
    "\n",
    "# Package with the SteadyStateOperator\n",
    "from bayern import ops\n",
    "# function to speed up numerical computations\n",
    "from numba import njit\n",
    "\n",
    "%reload_ext watermark\n",
    "%watermark -a \"Mathieu Baltussen\" -d -t -u -v -iv"
   ]
  },
  {
   "cell_type": "markdown",
   "metadata": {},
   "source": [
    "## Data import"
   ]
  },
  {
   "cell_type": "code",
   "execution_count": 2,
   "metadata": {},
   "outputs": [
    {
     "data": {
      "text/html": [
       "<div>\n",
       "<style scoped>\n",
       "    .dataframe tbody tr th:only-of-type {\n",
       "        vertical-align: middle;\n",
       "    }\n",
       "\n",
       "    .dataframe tbody tr th {\n",
       "        vertical-align: top;\n",
       "    }\n",
       "\n",
       "    .dataframe thead th {\n",
       "        text-align: right;\n",
       "    }\n",
       "</style>\n",
       "<table border=\"1\" class=\"dataframe\">\n",
       "  <thead>\n",
       "    <tr style=\"text-align: right;\">\n",
       "      <th></th>\n",
       "      <th>R</th>\n",
       "      <th>AAA</th>\n",
       "      <th>AMC</th>\n",
       "      <th>kf</th>\n",
       "      <th>Tr</th>\n",
       "    </tr>\n",
       "  </thead>\n",
       "  <tbody>\n",
       "    <tr>\n",
       "      <th>0</th>\n",
       "      <td>50</td>\n",
       "      <td>0</td>\n",
       "      <td>2.609888</td>\n",
       "      <td>0.125</td>\n",
       "      <td>0.012</td>\n",
       "    </tr>\n",
       "    <tr>\n",
       "      <th>1</th>\n",
       "      <td>100</td>\n",
       "      <td>0</td>\n",
       "      <td>4.265064</td>\n",
       "      <td>0.125</td>\n",
       "      <td>0.012</td>\n",
       "    </tr>\n",
       "    <tr>\n",
       "      <th>2</th>\n",
       "      <td>200</td>\n",
       "      <td>0</td>\n",
       "      <td>6.197783</td>\n",
       "      <td>0.125</td>\n",
       "      <td>0.012</td>\n",
       "    </tr>\n",
       "    <tr>\n",
       "      <th>3</th>\n",
       "      <td>300</td>\n",
       "      <td>0</td>\n",
       "      <td>7.167780</td>\n",
       "      <td>0.125</td>\n",
       "      <td>0.012</td>\n",
       "    </tr>\n",
       "    <tr>\n",
       "      <th>4</th>\n",
       "      <td>500</td>\n",
       "      <td>0</td>\n",
       "      <td>7.681850</td>\n",
       "      <td>0.125</td>\n",
       "      <td>0.012</td>\n",
       "    </tr>\n",
       "    <tr>\n",
       "      <th>5</th>\n",
       "      <td>50</td>\n",
       "      <td>1500</td>\n",
       "      <td>2.501800</td>\n",
       "      <td>0.125</td>\n",
       "      <td>0.012</td>\n",
       "    </tr>\n",
       "    <tr>\n",
       "      <th>6</th>\n",
       "      <td>100</td>\n",
       "      <td>1500</td>\n",
       "      <td>3.882780</td>\n",
       "      <td>0.125</td>\n",
       "      <td>0.012</td>\n",
       "    </tr>\n",
       "    <tr>\n",
       "      <th>7</th>\n",
       "      <td>200</td>\n",
       "      <td>1500</td>\n",
       "      <td>5.150944</td>\n",
       "      <td>0.125</td>\n",
       "      <td>0.012</td>\n",
       "    </tr>\n",
       "    <tr>\n",
       "      <th>8</th>\n",
       "      <td>300</td>\n",
       "      <td>1500</td>\n",
       "      <td>5.629337</td>\n",
       "      <td>0.125</td>\n",
       "      <td>0.012</td>\n",
       "    </tr>\n",
       "    <tr>\n",
       "      <th>9</th>\n",
       "      <td>500</td>\n",
       "      <td>1500</td>\n",
       "      <td>5.961178</td>\n",
       "      <td>0.125</td>\n",
       "      <td>0.012</td>\n",
       "    </tr>\n",
       "  </tbody>\n",
       "</table>\n",
       "</div>"
      ],
      "text/plain": [
       "     R   AAA       AMC     kf     Tr\n",
       "0   50     0  2.609888  0.125  0.012\n",
       "1  100     0  4.265064  0.125  0.012\n",
       "2  200     0  6.197783  0.125  0.012\n",
       "3  300     0  7.167780  0.125  0.012\n",
       "4  500     0  7.681850  0.125  0.012\n",
       "5   50  1500  2.501800  0.125  0.012\n",
       "6  100  1500  3.882780  0.125  0.012\n",
       "7  200  1500  5.150944  0.125  0.012\n",
       "8  300  1500  5.629337  0.125  0.012\n",
       "9  500  1500  5.961178  0.125  0.012"
      ]
     },
     "execution_count": 2,
     "metadata": {},
     "output_type": "execute_result"
    }
   ],
   "source": [
    "data = pd.read_csv(\"../data/CEKS33.csv\")\n",
    "kf = 0.125  # minute^-1\n",
    "E = 0.012 \n",
    "data = data.assign(kf=kf, Tr=E)\n",
    "data"
   ]
  },
  {
   "cell_type": "markdown",
   "metadata": {},
   "source": [
    "## Model definition\n",
    "\n",
    "Similar to the model found in `example_simple.ipynb`, the system is described by a set of ODE's.\n",
    "\n",
    "$$\n",
    "\\mathbf{f}(\\mathbf{x}, \\phi, \\theta): \\begin{cases}\n",
    "\\frac{dS}{dt} &= \\frac{-k_{cat}ES}{K_M + S*(1+I/K_I)} + k_f\\cdot (S_{in} - S)\\\\\n",
    "\\frac{dP}{dt} &= \\frac{k_{cat}ES}{K_M + S*(1+I/K_I)} - k_f\\cdot P \n",
    "\\end{cases}\n",
    "$$\n",
    "\n",
    "with state variables $\\mathbf{x} = [S, P]$, kinetic parameters $\\phi = [k_{cat}, K_M, K_I]$, and control parameters $\\theta = [S_{in}, I, k_f, E]$.\n",
    "\n",
    "These equations are implemented symbolically using the SymPy package. \n",
    "SymPy is then used to determine the symbolic expressions for the Jacobians ($J_i$) with respect to the state variables $\\mathbf{x}$, the kinetic parameters $\\phi$, and the control parameters $\\theta$.\n",
    "These equations, together with the rate equation $\\mathbf{f}$ are converted to their numeric counterpart, and wrapped inside a `numba-njit` wrapper, which speeds up their computation by applying optimization algorithms.\n",
    "Using these functions, the gradient of the steady-state conditions $\\frac{dg}{d\\phi}$ is determined using the Implicit Function Theorem:\n",
    "$$\n",
    "\\frac{dg}{d\\phi}(\\phi, \\theta)= - J_x^{-1}\\cdot J_\\phi\n",
    "$$\n",
    "which can be directly calculated from the numeric Jacobians.\n",
    "\n",
    "Finally, an algorithm is determined to efficiently calculate the steady-state conditions directly from the set of rate equations $\\mathbf{f}$. \n",
    "This can be done either via direct integration over a long time, or by finding the root of the function $\\mathbf{f}$. \n",
    "However, while the latter method is faster, it may be less reliable in more complex systems."
   ]
  },
  {
   "cell_type": "code",
   "execution_count": 3,
   "metadata": {},
   "outputs": [],
   "source": [
    "R, AMC = sym_x = sp.symbols(\"R, AMC\") # State variables\n",
    "k_cat, K_M, K_I = sym_phi = sp.symbols(\"k_cat, K_M, K_I\") # Kinetic parameters\n",
    "R_in, AAA_in, kf, Tr = sym_theta = sp.symbols(\"R_in, AAA_in, kf, Tr \")  # Control parameters\n",
    "\n",
    "# Rate equation\n",
    "sym_rate_equations = [\n",
    "    -k_cat * Tr * R / (K_M + R * (1+AAA_in/K_I)) + kf*(R_in - R),\n",
    "    k_cat * Tr * R / (K_M + R * (1+AAA_in/K_I)) - kf*AMC\n",
    "]\n",
    "\n",
    "# The Jacobians\n",
    "sym_jac_x = sp.Matrix(sym_rate_equations).jacobian(sym_x)\n",
    "sym_jac_phi = sp.Matrix(sym_rate_equations).jacobian(sym_phi)\n",
    "sym_jac_theta = sp.Matrix(sym_rate_equations).jacobian(sym_theta)\n",
    "\n",
    "# Numeric equations\n",
    "num_rate_equations = njit(sp.lambdify([sym_x, sym_phi, sym_theta], sym_rate_equations, \"numpy\"))\n",
    "num_jac_x = njit(sp.lambdify([sym_x, sym_phi, sym_theta], sym_jac_x, \"numpy\"))\n",
    "num_jac_phi = njit(sp.lambdify([sym_x, sym_phi, sym_theta], sym_jac_phi, \"numpy\"))\n",
    "num_jac_theta = njit(sp.lambdify([sym_x, sym_phi, sym_theta], sym_jac_theta, \"numpy\"))\n",
    "\n",
    "# Numeric gradients (theta is currently unused, but still has to be given to the operator)\n",
    "num_grad_phi = njit(lambda x,phi,theta: np.dot(-np.linalg.inv(num_jac_x(x,phi,theta)),num_jac_phi(x,phi,theta)))\n",
    "num_grad_theta = njit(lambda x,phi,theta: np.dot(-np.linalg.inv(num_jac_x(x,phi,theta)),num_jac_theta(x,phi,theta)))\n",
    "\n",
    "# Function to numerically determine the steady-state concentrations\n",
    "def find_root(fun, jac, phi, theta):\n",
    "    return optimize.root(fun=fun, x0=[theta[0],0.0], jac=jac, args=(phi, theta)).x\n"
   ]
  },
  {
   "cell_type": "markdown",
   "metadata": {},
   "source": [
    "With the numerical expressions for the steady-state concentrations, jacobians, and gradients, we can again construct a probabilistic model using PyMC3.\n",
    "However, now instead of explicitly writing down the steady-state condition, we create an operator (the SteadyStateOp) from the various numerical expressions combined with a matrix containing the control parameters for every observations.\n",
    "This `theta_set` matrix is obtained from the Pandas dataframe holding all data.\n",
    "\n",
    "The SteadyStateOp takes a stacked tensor of the kinetic parameters that need to be inferred, and returns the predicted steady-state concentrations for every observation associated to the set of theta-values.\n",
    "As we only observe the product concentration, we only use the second component returned by the operator to feed into the final likelihood calculation.\n",
    "\n",
    "This probabilistic model can be sampled in the same way as an explicitly defined model, and as expected returns the same results.\n",
    "The posterior obtained from the sampling can be analysed exactly in the same way as well.\n",
    "However, due to explicit numerical calculation of steady-state concentrations and gradients, the process is normally much slower then an explicitly defined model.\n",
    "Thus, when partial observability is not an issue, and when the steady-state condition can be written down explicitly, using the operator is not encouraged.\n"
   ]
  },
  {
   "cell_type": "code",
   "execution_count": 4,
   "metadata": {},
   "outputs": [],
   "source": [
    "with pm.Model() as model:\n",
    "    # Stating the priors\n",
    "    k_cat = pm.Uniform(\"k_cat\", 0, 500)\n",
    "    K_M = pm.Uniform(\"K_M\", 0, 500)\n",
    "    K_I = pm.Uniform(\"K_I\", 1000, 10000)\n",
    "    phi_set = tt.stack([k_cat, K_M, K_I])\n",
    "    \n",
    "    sigma = pm.Exponential(\"sigma\", 10)\n",
    "\n",
    "    # We extract all data from the dataframe here so the likelihood is easier to write down\n",
    "    P_obs = data[\"AMC\"].values\n",
    "\n",
    "    theta_set = data[[\"R\", \"AAA\", \"kf\", \"Tr\"]].values\n",
    "    SteadyStateOp = ops.SteadyStateDatasetOp(num_rate_equations, num_jac_x, num_grad_phi, num_grad_theta, find_root, theta_set=theta_set)\n",
    "\n",
    "    # Inference of probabilistic model at steady-state conditions\n",
    "    P = pm.Normal(\n",
    "        \"obs\", \n",
    "        mu=SteadyStateOp(phi_set)[:,1], \n",
    "        sigma=sigma, \n",
    "        observed=P_obs\n",
    "    )"
   ]
  },
  {
   "cell_type": "code",
   "execution_count": 5,
   "metadata": {},
   "outputs": [
    {
     "data": {
      "image/svg+xml": [
       "<?xml version=\"1.0\" encoding=\"UTF-8\" standalone=\"no\"?>\n",
       "<!DOCTYPE svg PUBLIC \"-//W3C//DTD SVG 1.1//EN\"\n",
       " \"http://www.w3.org/Graphics/SVG/1.1/DTD/svg11.dtd\">\n",
       "<!-- Generated by graphviz version 2.49.1 (20211004.0028)\n",
       " -->\n",
       "<!-- Pages: 1 -->\n",
       "<svg width=\"528pt\" height=\"233pt\"\n",
       " viewBox=\"0.00 0.00 527.87 232.91\" xmlns=\"http://www.w3.org/2000/svg\" xmlns:xlink=\"http://www.w3.org/1999/xlink\">\n",
       "<g id=\"graph0\" class=\"graph\" transform=\"scale(1 1) rotate(0) translate(4 228.91)\">\n",
       "<polygon fill=\"white\" stroke=\"transparent\" points=\"-4,4 -4,-228.91 523.87,-228.91 523.87,4 -4,4\"/>\n",
       "<g id=\"clust1\" class=\"cluster\">\n",
       "<title>cluster10</title>\n",
       "<path fill=\"none\" stroke=\"black\" d=\"M233.12,-8C233.12,-8 323.12,-8 323.12,-8 329.12,-8 335.12,-14 335.12,-20 335.12,-20 335.12,-109.95 335.12,-109.95 335.12,-115.95 329.12,-121.95 323.12,-121.95 323.12,-121.95 233.12,-121.95 233.12,-121.95 227.12,-121.95 221.12,-115.95 221.12,-109.95 221.12,-109.95 221.12,-20 221.12,-20 221.12,-14 227.12,-8 233.12,-8\"/>\n",
       "<text text-anchor=\"middle\" x=\"317.62\" y=\"-15.8\" font-family=\"Times,serif\" font-size=\"14.00\">10</text>\n",
       "</g>\n",
       "<!-- sigma -->\n",
       "<g id=\"node1\" class=\"node\">\n",
       "<title>sigma</title>\n",
       "<ellipse fill=\"none\" stroke=\"black\" cx=\"72.12\" cy=\"-187.43\" rx=\"72.25\" ry=\"37.45\"/>\n",
       "<text text-anchor=\"middle\" x=\"72.12\" y=\"-198.73\" font-family=\"Times,serif\" font-size=\"14.00\">sigma</text>\n",
       "<text text-anchor=\"middle\" x=\"72.12\" y=\"-183.73\" font-family=\"Times,serif\" font-size=\"14.00\">~</text>\n",
       "<text text-anchor=\"middle\" x=\"72.12\" y=\"-168.73\" font-family=\"Times,serif\" font-size=\"14.00\">Exponential</text>\n",
       "</g>\n",
       "<!-- obs -->\n",
       "<g id=\"node5\" class=\"node\">\n",
       "<title>obs</title>\n",
       "<ellipse fill=\"lightgrey\" stroke=\"black\" cx=\"278.12\" cy=\"-76.48\" rx=\"49.49\" ry=\"37.45\"/>\n",
       "<text text-anchor=\"middle\" x=\"278.12\" y=\"-87.78\" font-family=\"Times,serif\" font-size=\"14.00\">obs</text>\n",
       "<text text-anchor=\"middle\" x=\"278.12\" y=\"-72.78\" font-family=\"Times,serif\" font-size=\"14.00\">~</text>\n",
       "<text text-anchor=\"middle\" x=\"278.12\" y=\"-57.78\" font-family=\"Times,serif\" font-size=\"14.00\">Normal</text>\n",
       "</g>\n",
       "<!-- sigma&#45;&gt;obs -->\n",
       "<g id=\"edge1\" class=\"edge\">\n",
       "<title>sigma&#45;&gt;obs</title>\n",
       "<path fill=\"none\" stroke=\"black\" d=\"M121.73,-160.19C154.27,-142.99 196.63,-120.58 229.06,-103.43\"/>\n",
       "<polygon fill=\"black\" stroke=\"black\" points=\"230.72,-106.51 237.93,-98.74 227.45,-100.32 230.72,-106.51\"/>\n",
       "</g>\n",
       "<!-- K_I -->\n",
       "<g id=\"node2\" class=\"node\">\n",
       "<title>K_I</title>\n",
       "<ellipse fill=\"none\" stroke=\"black\" cx=\"216.12\" cy=\"-187.43\" rx=\"53.98\" ry=\"37.45\"/>\n",
       "<text text-anchor=\"middle\" x=\"216.12\" y=\"-198.73\" font-family=\"Times,serif\" font-size=\"14.00\">K_I</text>\n",
       "<text text-anchor=\"middle\" x=\"216.12\" y=\"-183.73\" font-family=\"Times,serif\" font-size=\"14.00\">~</text>\n",
       "<text text-anchor=\"middle\" x=\"216.12\" y=\"-168.73\" font-family=\"Times,serif\" font-size=\"14.00\">Uniform</text>\n",
       "</g>\n",
       "<!-- K_I&#45;&gt;obs -->\n",
       "<g id=\"edge2\" class=\"edge\">\n",
       "<title>K_I&#45;&gt;obs</title>\n",
       "<path fill=\"none\" stroke=\"black\" d=\"M235.57,-152.26C241.4,-142.02 247.86,-130.66 253.95,-119.96\"/>\n",
       "<polygon fill=\"black\" stroke=\"black\" points=\"257.06,-121.58 258.96,-111.16 250.97,-118.12 257.06,-121.58\"/>\n",
       "</g>\n",
       "<!-- K_M -->\n",
       "<g id=\"node3\" class=\"node\">\n",
       "<title>K_M</title>\n",
       "<ellipse fill=\"none\" stroke=\"black\" cx=\"341.12\" cy=\"-187.43\" rx=\"53.98\" ry=\"37.45\"/>\n",
       "<text text-anchor=\"middle\" x=\"341.12\" y=\"-198.73\" font-family=\"Times,serif\" font-size=\"14.00\">K_M</text>\n",
       "<text text-anchor=\"middle\" x=\"341.12\" y=\"-183.73\" font-family=\"Times,serif\" font-size=\"14.00\">~</text>\n",
       "<text text-anchor=\"middle\" x=\"341.12\" y=\"-168.73\" font-family=\"Times,serif\" font-size=\"14.00\">Uniform</text>\n",
       "</g>\n",
       "<!-- K_M&#45;&gt;obs -->\n",
       "<g id=\"edge3\" class=\"edge\">\n",
       "<title>K_M&#45;&gt;obs</title>\n",
       "<path fill=\"none\" stroke=\"black\" d=\"M321.36,-152.26C315.44,-142.02 308.88,-130.66 302.69,-119.96\"/>\n",
       "<polygon fill=\"black\" stroke=\"black\" points=\"305.64,-118.06 297.6,-111.16 299.58,-121.57 305.64,-118.06\"/>\n",
       "</g>\n",
       "<!-- k_cat -->\n",
       "<g id=\"node4\" class=\"node\">\n",
       "<title>k_cat</title>\n",
       "<ellipse fill=\"none\" stroke=\"black\" cx=\"466.12\" cy=\"-187.43\" rx=\"53.98\" ry=\"37.45\"/>\n",
       "<text text-anchor=\"middle\" x=\"466.12\" y=\"-198.73\" font-family=\"Times,serif\" font-size=\"14.00\">k_cat</text>\n",
       "<text text-anchor=\"middle\" x=\"466.12\" y=\"-183.73\" font-family=\"Times,serif\" font-size=\"14.00\">~</text>\n",
       "<text text-anchor=\"middle\" x=\"466.12\" y=\"-168.73\" font-family=\"Times,serif\" font-size=\"14.00\">Uniform</text>\n",
       "</g>\n",
       "<!-- k_cat&#45;&gt;obs -->\n",
       "<g id=\"edge4\" class=\"edge\">\n",
       "<title>k_cat&#45;&gt;obs</title>\n",
       "<path fill=\"none\" stroke=\"black\" d=\"M425.8,-162.63C418.59,-158.4 411.14,-154.04 404.12,-149.95 378.3,-134.93 349.42,-118.3 325.83,-104.77\"/>\n",
       "<polygon fill=\"black\" stroke=\"black\" points=\"327.48,-101.68 317.06,-99.74 324,-107.75 327.48,-101.68\"/>\n",
       "</g>\n",
       "</g>\n",
       "</svg>\n"
      ],
      "text/plain": [
       "<graphviz.graphs.Digraph at 0x7fa799093130>"
      ]
     },
     "execution_count": 5,
     "metadata": {},
     "output_type": "execute_result"
    }
   ],
   "source": [
    "pm.model_to_graphviz(model)"
   ]
  },
  {
   "cell_type": "code",
   "execution_count": 6,
   "metadata": {},
   "outputs": [
    {
     "name": "stderr",
     "output_type": "stream",
     "text": [
      "Multiprocess sampling (8 chains in 8 jobs)\n",
      "NUTS: [sigma, K_I, K_M, k_cat]\n"
     ]
    },
    {
     "data": {
      "text/html": [
       "\n",
       "<style>\n",
       "    /* Turns off some styling */\n",
       "    progress {\n",
       "        /* gets rid of default border in Firefox and Opera. */\n",
       "        border: none;\n",
       "        /* Needs to be in here for Safari polyfill so background images work as expected. */\n",
       "        background-size: auto;\n",
       "    }\n",
       "    .progress-bar-interrupted, .progress-bar-interrupted::-webkit-progress-bar {\n",
       "        background: #F44336;\n",
       "    }\n",
       "</style>\n"
      ],
      "text/plain": [
       "<IPython.core.display.HTML object>"
      ]
     },
     "metadata": {},
     "output_type": "display_data"
    },
    {
     "data": {
      "text/html": [
       "\n",
       "    <div>\n",
       "      <progress value='16000' class='' max='16000' style='width:300px; height:20px; vertical-align: middle;'></progress>\n",
       "      100.00% [16000/16000 00:24<00:00 Sampling 8 chains, 0 divergences]\n",
       "    </div>\n",
       "    "
      ],
      "text/plain": [
       "<IPython.core.display.HTML object>"
      ]
     },
     "metadata": {},
     "output_type": "display_data"
    },
    {
     "name": "stderr",
     "output_type": "stream",
     "text": [
      "Sampling 8 chains for 1_000 tune and 1_000 draw iterations (8_000 + 8_000 draws total) took 24 seconds.\n"
     ]
    }
   ],
   "source": [
    "with model:\n",
    "    idata = pm.sample(\n",
    "        1000,\n",
    "        tune=1000,\n",
    "        cores=8,\n",
    "        step=pm.NUTS(target_accept=0.95),\n",
    "        return_inferencedata=True,\n",
    "    )"
   ]
  },
  {
   "cell_type": "code",
   "execution_count": 7,
   "metadata": {},
   "outputs": [
    {
     "data": {
      "image/png": "[encoded data removed]",
      "text/plain": [
       "<Figure size 720x216 with 4 Axes>"
      ]
     },
     "metadata": {},
     "output_type": "display_data"
    }
   ],
   "source": [
    "with model:\n",
    "    az.plot_posterior(idata, figsize=(10,3))"
   ]
  },
  {
   "cell_type": "code",
   "execution_count": null,
   "metadata": {},
   "outputs": [],
   "source": []
  }
 ],
 "metadata": {
  "interpreter": {
   "hash": "244747c6fd72588afcde0162c42b84020c0854932d4821074777ac1fff947003"
  },
  "kernelspec": {
   "display_name": "Python 3 (ipykernel)",
   "language": "python",
   "name": "python3"
  },
  "language_info": {
   "codemirror_mode": {
    "name": "ipython",
    "version": 3
   },
   "file_extension": ".py",
   "mimetype": "text/x-python",
   "name": "python",
   "nbconvert_exporter": "python",
   "pygments_lexer": "ipython3",
   "version": "3.9.5"
  }
 },
 "nbformat": 4,
 "nbformat_minor": 2
}
